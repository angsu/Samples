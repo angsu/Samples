{
 "cells": [
  {
   "cell_type": "markdown",
   "metadata": {},
   "source": [
    "# PART 2: Exploring Doctor Prevalence\n",
    "\n",
    "Data Sources used:\n",
    "\n",
    "Health Dataset  https://chronicdata.cdc.gov/500-Cities/500-Cities-Census-Tract-level-Data-GIS-Friendly-Fo/k25u-mg9b\n",
    "\n",
    "Socioeconomics Dataset https://svi.cdc.gov/data-and-tools-download.html \n",
    "\n",
    "Better Doctor API https://developer.betterdoctor.com/documentation15 \n",
    "\n",
    "Shapefiles of CA cities https://purl.stanford.edu/zd071bk4213"
   ]
  },
  {
   "cell_type": "code",
   "execution_count": 1,
   "metadata": {},
   "outputs": [],
   "source": [
    "import geopandas as gpd\n",
    "import pandas as pd\n",
    "import numpy as np\n",
    "import shapely as shape\n",
    "import geopy.distance as gpy #install -c conda-forge geopy\n",
    "import requests\n",
    "import requests_cache\n",
    "import matplotlib.pyplot as plt\n",
    "from plotnine import *\n",
    "import seaborn as sns\n",
    "from random import randint\n",
    "from time import sleep\n",
    "requests_cache.install_cache(\"mycache\")\n",
    "pd.options.mode.chained_assignment = None  # default='warn'\n",
    "\n",
    "import warnings\n",
    "warnings.filterwarnings('ignore')"
   ]
  },
  {
   "cell_type": "markdown",
   "metadata": {},
   "source": [
    "### First, we find the cities at highest and lowest risk for diabetes and mental illness. "
   ]
  },
  {
   "cell_type": "code",
   "execution_count": 2,
   "metadata": {
    "scrolled": true
   },
   "outputs": [
    {
     "data": {
      "text/html": [
       "<div>\n",
       "<style scoped>\n",
       "    .dataframe tbody tr th:only-of-type {\n",
       "        vertical-align: middle;\n",
       "    }\n",
       "\n",
       "    .dataframe tbody tr th {\n",
       "        vertical-align: top;\n",
       "    }\n",
       "\n",
       "    .dataframe thead th {\n",
       "        text-align: right;\n",
       "    }\n",
       "</style>\n",
       "<table border=\"1\" class=\"dataframe\">\n",
       "  <thead>\n",
       "    <tr style=\"text-align: right;\">\n",
       "      <th></th>\n",
       "      <th>StateAbbr</th>\n",
       "      <th>PlaceName</th>\n",
       "      <th>PlaceFIPS</th>\n",
       "      <th>TractFIPS</th>\n",
       "      <th>Place_TractID</th>\n",
       "      <th>Population2010</th>\n",
       "      <th>ACCESS2_CrudePrev</th>\n",
       "      <th>ACCESS2_Crude95CI</th>\n",
       "      <th>ARTHRITIS_CrudePrev</th>\n",
       "      <th>ARTHRITIS_Crude95CI</th>\n",
       "      <th>...</th>\n",
       "      <th>PHLTH_Crude95CI</th>\n",
       "      <th>SLEEP_CrudePrev</th>\n",
       "      <th>SLEEP_Crude95CI</th>\n",
       "      <th>STROKE_CrudePrev</th>\n",
       "      <th>STROKE_Crude95CI</th>\n",
       "      <th>TEETHLOST_CrudePrev</th>\n",
       "      <th>TEETHLOST_Crude95CI</th>\n",
       "      <th>Geolocation</th>\n",
       "      <th>States</th>\n",
       "      <th>Counties</th>\n",
       "    </tr>\n",
       "  </thead>\n",
       "  <tbody>\n",
       "    <tr>\n",
       "      <th>1</th>\n",
       "      <td>CA</td>\n",
       "      <td>Los Angeles</td>\n",
       "      <td>644000</td>\n",
       "      <td>6037206032</td>\n",
       "      <td>0644000-06037206032</td>\n",
       "      <td>5275</td>\n",
       "      <td>28.0</td>\n",
       "      <td>(22.7, 33.2)</td>\n",
       "      <td>19.9</td>\n",
       "      <td>(18.8, 20.9)</td>\n",
       "      <td>...</td>\n",
       "      <td>(15.3, 19.2)</td>\n",
       "      <td>38.9</td>\n",
       "      <td>(37.2, 40.4)</td>\n",
       "      <td>4.0</td>\n",
       "      <td>( 3.5,  4.5)</td>\n",
       "      <td>18.8</td>\n",
       "      <td>(12.6, 25.6)</td>\n",
       "      <td>POINT (-118.224698433 34.0470512474)</td>\n",
       "      <td>8.0</td>\n",
       "      <td>1195.0</td>\n",
       "    </tr>\n",
       "    <tr>\n",
       "      <th>2</th>\n",
       "      <td>CA</td>\n",
       "      <td>Pasadena</td>\n",
       "      <td>656000</td>\n",
       "      <td>6037462001</td>\n",
       "      <td>0656000-06037462001</td>\n",
       "      <td>3974</td>\n",
       "      <td>23.3</td>\n",
       "      <td>(19.2, 27.8)</td>\n",
       "      <td>16.7</td>\n",
       "      <td>(16.0, 17.5)</td>\n",
       "      <td>...</td>\n",
       "      <td>(13.9, 16.8)</td>\n",
       "      <td>40.2</td>\n",
       "      <td>(38.8, 41.5)</td>\n",
       "      <td>3.2</td>\n",
       "      <td>( 2.9,  3.5)</td>\n",
       "      <td>18.1</td>\n",
       "      <td>(13.7, 22.8)</td>\n",
       "      <td>POINT (-118.143832177 34.1633689905)</td>\n",
       "      <td>8.0</td>\n",
       "      <td>1195.0</td>\n",
       "    </tr>\n",
       "    <tr>\n",
       "      <th>3</th>\n",
       "      <td>CA</td>\n",
       "      <td>Fullerton</td>\n",
       "      <td>628000</td>\n",
       "      <td>6059011504</td>\n",
       "      <td>0628000-06059011504</td>\n",
       "      <td>5473</td>\n",
       "      <td>11.7</td>\n",
       "      <td>( 9.6, 14.5)</td>\n",
       "      <td>8.3</td>\n",
       "      <td>( 7.9,  8.7)</td>\n",
       "      <td>...</td>\n",
       "      <td>( 7.7,  9.5)</td>\n",
       "      <td>33.4</td>\n",
       "      <td>(31.6, 35.1)</td>\n",
       "      <td>1.2</td>\n",
       "      <td>( 1.1,  1.3)</td>\n",
       "      <td>11.9</td>\n",
       "      <td>( 8.8, 16.0)</td>\n",
       "      <td>POINT (-117.883112998 33.8820402343)</td>\n",
       "      <td>8.0</td>\n",
       "      <td>1174.0</td>\n",
       "    </tr>\n",
       "    <tr>\n",
       "      <th>9</th>\n",
       "      <td>CA</td>\n",
       "      <td>San Diego</td>\n",
       "      <td>666000</td>\n",
       "      <td>6073003112</td>\n",
       "      <td>0666000-06073003112</td>\n",
       "      <td>4574</td>\n",
       "      <td>16.6</td>\n",
       "      <td>(14.5, 19.0)</td>\n",
       "      <td>18.4</td>\n",
       "      <td>(17.8, 19.0)</td>\n",
       "      <td>...</td>\n",
       "      <td>(12.1, 14.0)</td>\n",
       "      <td>39.1</td>\n",
       "      <td>(38.1, 40.0)</td>\n",
       "      <td>3.3</td>\n",
       "      <td>( 3.0,  3.5)</td>\n",
       "      <td>14.5</td>\n",
       "      <td>(11.6, 17.6)</td>\n",
       "      <td>POINT (-117.062840167 32.7058787421)</td>\n",
       "      <td>8.0</td>\n",
       "      <td>1179.0</td>\n",
       "    </tr>\n",
       "    <tr>\n",
       "      <th>10</th>\n",
       "      <td>CA</td>\n",
       "      <td>Concord</td>\n",
       "      <td>616000</td>\n",
       "      <td>6013336102</td>\n",
       "      <td>0616000-06013336102</td>\n",
       "      <td>7595</td>\n",
       "      <td>23.7</td>\n",
       "      <td>(19.0, 28.3)</td>\n",
       "      <td>15.1</td>\n",
       "      <td>(14.4, 15.8)</td>\n",
       "      <td>...</td>\n",
       "      <td>(12.8, 15.9)</td>\n",
       "      <td>38.1</td>\n",
       "      <td>(36.4, 39.7)</td>\n",
       "      <td>2.6</td>\n",
       "      <td>( 2.4,  2.8)</td>\n",
       "      <td>20.8</td>\n",
       "      <td>(15.6, 26.3)</td>\n",
       "      <td>POINT (-122.039845174 37.9659371833)</td>\n",
       "      <td>8.0</td>\n",
       "      <td>1185.0</td>\n",
       "    </tr>\n",
       "  </tbody>\n",
       "</table>\n",
       "<p>5 rows × 65 columns</p>\n",
       "</div>"
      ],
      "text/plain": [
       "   StateAbbr    PlaceName  PlaceFIPS   TractFIPS        Place_TractID  \\\n",
       "1         CA  Los Angeles     644000  6037206032  0644000-06037206032   \n",
       "2         CA     Pasadena     656000  6037462001  0656000-06037462001   \n",
       "3         CA    Fullerton     628000  6059011504  0628000-06059011504   \n",
       "9         CA    San Diego     666000  6073003112  0666000-06073003112   \n",
       "10        CA      Concord     616000  6013336102  0616000-06013336102   \n",
       "\n",
       "    Population2010  ACCESS2_CrudePrev ACCESS2_Crude95CI  ARTHRITIS_CrudePrev  \\\n",
       "1             5275               28.0      (22.7, 33.2)                 19.9   \n",
       "2             3974               23.3      (19.2, 27.8)                 16.7   \n",
       "3             5473               11.7      ( 9.6, 14.5)                  8.3   \n",
       "9             4574               16.6      (14.5, 19.0)                 18.4   \n",
       "10            7595               23.7      (19.0, 28.3)                 15.1   \n",
       "\n",
       "   ARTHRITIS_Crude95CI  ...  PHLTH_Crude95CI SLEEP_CrudePrev  SLEEP_Crude95CI  \\\n",
       "1         (18.8, 20.9)  ...     (15.3, 19.2)            38.9     (37.2, 40.4)   \n",
       "2         (16.0, 17.5)  ...     (13.9, 16.8)            40.2     (38.8, 41.5)   \n",
       "3         ( 7.9,  8.7)  ...     ( 7.7,  9.5)            33.4     (31.6, 35.1)   \n",
       "9         (17.8, 19.0)  ...     (12.1, 14.0)            39.1     (38.1, 40.0)   \n",
       "10        (14.4, 15.8)  ...     (12.8, 15.9)            38.1     (36.4, 39.7)   \n",
       "\n",
       "   STROKE_CrudePrev  STROKE_Crude95CI TEETHLOST_CrudePrev  \\\n",
       "1               4.0      ( 3.5,  4.5)                18.8   \n",
       "2               3.2      ( 2.9,  3.5)                18.1   \n",
       "3               1.2      ( 1.1,  1.3)                11.9   \n",
       "9               3.3      ( 3.0,  3.5)                14.5   \n",
       "10              2.6      ( 2.4,  2.8)                20.8   \n",
       "\n",
       "    TEETHLOST_Crude95CI                           Geolocation  States Counties  \n",
       "1          (12.6, 25.6)  POINT (-118.224698433 34.0470512474)     8.0   1195.0  \n",
       "2          (13.7, 22.8)  POINT (-118.143832177 34.1633689905)     8.0   1195.0  \n",
       "3          ( 8.8, 16.0)  POINT (-117.883112998 33.8820402343)     8.0   1174.0  \n",
       "9          (11.6, 17.6)  POINT (-117.062840167 32.7058787421)     8.0   1179.0  \n",
       "10         (15.6, 26.3)  POINT (-122.039845174 37.9659371833)     8.0   1185.0  \n",
       "\n",
       "[5 rows x 65 columns]"
      ]
     },
     "execution_count": 2,
     "metadata": {},
     "output_type": "execute_result"
    }
   ],
   "source": [
    "#Extract data for cities in California only\n",
    "health = pd.read_csv('500_Cities__Census_Tract-level_Data__GIS_Friendly_Format___2018_release.csv')\n",
    "health = health[health['StateAbbr'] == 'CA']\n",
    "health.head()"
   ]
  },
  {
   "cell_type": "code",
   "execution_count": 3,
   "metadata": {},
   "outputs": [],
   "source": [
    "z = health['Population2010'].reset_index()"
   ]
  },
  {
   "cell_type": "code",
   "execution_count": 4,
   "metadata": {},
   "outputs": [],
   "source": [
    "#Extract health information we're interested in\n",
    "health_needed = health[['Place_TractID','PlaceName','BPHIGH_CrudePrev','CASTHMA_CrudePrev','COPD_CrudePrev',\n",
    "           'CSMOKING_CrudePrev','DIABETES_CrudePrev','HIGHCHOL_CrudePrev','MHLTH_CrudePrev','SLEEP_CrudePrev']]\n",
    "\n",
    "population_total = health[['PlaceName','Population2010']]\n",
    "population_total= population_total.groupby(['PlaceName']).sum().reset_index()\n",
    "population_total = population_total.rename(columns = {population_total.columns[1]: \"Total Population\"})\n",
    "population_each = health[['Place_TractID','PlaceName','Population2010']]\n",
    "population_proportion = pd.merge(population_each,population_total , on = 'PlaceName')\n",
    "\n",
    "#Calculate the population weight for each disease percentage\n",
    "population_proportion['Population weight'] = population_proportion['Population2010']/population_proportion['Total Population']\n",
    "population_weight = population_proportion[['Place_TractID','Population weight']]\n",
    "health_needed = pd.merge(health_needed,population_weight , on = 'Place_TractID')"
   ]
  },
  {
   "cell_type": "code",
   "execution_count": 5,
   "metadata": {},
   "outputs": [],
   "source": [
    "#Calculate the weighted average of each disease\n",
    "for i in range(8):\n",
    "    health_needed.iloc[:,i+2] = health_needed.iloc[:,i+2]*health_needed.iloc[:,10]\n",
    "\n",
    "health_needed = health_needed.iloc[:,1:10]\n",
    "health_needed['Population2010'] = z.Population2010\n",
    "health_needed.head()\n",
    "cityhealthcp= health_needed.groupby(['PlaceName']).sum().reset_index()"
   ]
  },
  {
   "cell_type": "code",
   "execution_count": 6,
   "metadata": {},
   "outputs": [],
   "source": [
    "#Extract disease crude prevalence data\n",
    "healthcp = health[['TractFIPS','PlaceName','DIABETES_CrudePrev','MHLTH_CrudePrev','SLEEP_CrudePrev', 'Population2010']]"
   ]
  },
  {
   "cell_type": "code",
   "execution_count": 7,
   "metadata": {},
   "outputs": [],
   "source": [
    "#Sort cities by crude prevalence of diabetes from low to high\n",
    "Diabetes = cityhealthcp.sort_values('DIABETES_CrudePrev')"
   ]
  },
  {
   "cell_type": "code",
   "execution_count": 8,
   "metadata": {},
   "outputs": [
    {
     "data": {
      "text/plain": [
       "['Redondo Beach', 'San Ramon', 'Berkeley', 'Folsom', 'Irvine']"
      ]
     },
     "execution_count": 8,
     "metadata": {},
     "output_type": "execute_result"
    }
   ],
   "source": [
    "#The 5 cities with lowest crude prevalence of diabetes are:\n",
    "list(Diabetes.head(5)['PlaceName'])"
   ]
  },
  {
   "cell_type": "code",
   "execution_count": 9,
   "metadata": {},
   "outputs": [
    {
     "data": {
      "text/plain": [
       "['Westminster', 'Inglewood', 'San Bernardino', 'Compton', 'Hemet']"
      ]
     },
     "execution_count": 9,
     "metadata": {},
     "output_type": "execute_result"
    }
   ],
   "source": [
    "#The 5 cities with the highest crude prevalence of diabetes are:\n",
    "list(Diabetes.tail(5)['PlaceName'])"
   ]
  },
  {
   "cell_type": "code",
   "execution_count": 10,
   "metadata": {},
   "outputs": [],
   "source": [
    "#Sort cities by crude prevalence of mental illness from low to high\n",
    "mental_health = cityhealthcp.sort_values('MHLTH_CrudePrev')"
   ]
  },
  {
   "cell_type": "code",
   "execution_count": 11,
   "metadata": {},
   "outputs": [
    {
     "data": {
      "text/plain": [
       "['San Ramon', 'Sunnyvale', 'Newport Beach', 'Fremont', 'Milpitas']"
      ]
     },
     "execution_count": 11,
     "metadata": {},
     "output_type": "execute_result"
    }
   ],
   "source": [
    "#The 5 cities with the lowest crude prevalence of mental illness are:\n",
    "list(mental_health.head(5)['PlaceName'])"
   ]
  },
  {
   "cell_type": "code",
   "execution_count": 12,
   "metadata": {},
   "outputs": [
    {
     "data": {
      "text/plain": [
       "['Hesperia', 'Merced', 'Compton', 'Lynwood', 'San Bernardino']"
      ]
     },
     "execution_count": 12,
     "metadata": {},
     "output_type": "execute_result"
    }
   ],
   "source": [
    "#The 5 cities with the highest crude prevalence of mental illness are:\n",
    "list(mental_health.tail(5)['PlaceName'])"
   ]
  },
  {
   "cell_type": "markdown",
   "metadata": {},
   "source": [
    "### To find the number of doctors per city, we extract doctor prevalence by location from BetterDoctor's API. "
   ]
  },
  {
   "cell_type": "code",
   "execution_count": 13,
   "metadata": {},
   "outputs": [],
   "source": [
    "#function \n",
    "key = \"a9ed2c27d2f8d4bd41631bf9922c9e82\"\n",
    "def find_numdoc(city):\n",
    "    response = requests.get(\"https://api.betterdoctor.com/2016-03-01/doctors\", params = {\n",
    "        \"location\": city,\n",
    "        \"user_key\": key\n",
    "    })\n",
    "    sleep(randint(0,2))\n",
    "    response.raise_for_status()\n",
    "    result = response.json()\n",
    "    return result['meta']['total']"
   ]
  },
  {
   "cell_type": "code",
   "execution_count": 14,
   "metadata": {},
   "outputs": [],
   "source": [
    "cityhealthcp['nameforapi'] = 'ca-'+ cityhealthcp['PlaceName']\n",
    "doc1 = pd.DataFrame()\n",
    "doc1['city'] = None\n",
    "\n",
    "doc2 = pd.DataFrame()\n",
    "doc2['city'] = None\n",
    "\n",
    "doc3 = pd.DataFrame()\n",
    "doc3['city'] = None\n",
    "\n",
    "#betterdoctor api allows only 40 requests every minute, so separate the cities into blocks of 40 or less\n",
    "for i in range(0, 40):\n",
    "    doc1.loc[i,'city'] = cityhealthcp['nameforapi'][i].lower()\n",
    "    doc1.loc[i,'city'] = doc1.loc[i,'city'].replace(\" \",'-')\n",
    "    \n",
    "for i in range(40,81):\n",
    "    doc2.loc[i,'city'] = cityhealthcp['nameforapi'][i].lower()\n",
    "    doc2.loc[i,'city'] = doc2.loc[i,'city'].replace(\" \",'-')\n",
    "\n",
    "for i in range(81,121):\n",
    "    doc3.loc[i,'city'] = cityhealthcp['nameforapi'][i].lower()\n",
    "    doc3.loc[i,'city'] = doc3.loc[i,'city'].replace(\" \",'-')"
   ]
  },
  {
   "cell_type": "code",
   "execution_count": 15,
   "metadata": {},
   "outputs": [],
   "source": [
    "#fix name for city of ventura\n",
    "doc3.loc[86, 'city'] = 'ca-ventura'"
   ]
  },
  {
   "cell_type": "code",
   "execution_count": 16,
   "metadata": {},
   "outputs": [],
   "source": [
    "doc1['#doctors'] = None\n",
    "doc1['#doctors'] = list(map(find_numdoc, doc1['city']))"
   ]
  },
  {
   "cell_type": "code",
   "execution_count": 17,
   "metadata": {},
   "outputs": [],
   "source": [
    "doc2['#doctors'] = None\n",
    "doc2['#doctors'] = list(map(find_numdoc, doc2['city']))"
   ]
  },
  {
   "cell_type": "code",
   "execution_count": 18,
   "metadata": {},
   "outputs": [],
   "source": [
    "doc3['#doctors'] = None\n",
    "doc3['#doctors'] = list(map(find_numdoc, doc3['city']))"
   ]
  },
  {
   "cell_type": "code",
   "execution_count": 19,
   "metadata": {},
   "outputs": [],
   "source": [
    "doc = pd.concat([doc1, doc2, doc3])\n",
    "doc['docs/1000'] = None\n",
    "doc['docs/1000'] = doc['#doctors'] / cityhealthcp['Population2010']*1000\n"
   ]
  },
  {
   "cell_type": "code",
   "execution_count": 20,
   "metadata": {},
   "outputs": [
    {
     "data": {
      "text/html": [
       "<div>\n",
       "<style scoped>\n",
       "    .dataframe tbody tr th:only-of-type {\n",
       "        vertical-align: middle;\n",
       "    }\n",
       "\n",
       "    .dataframe tbody tr th {\n",
       "        vertical-align: top;\n",
       "    }\n",
       "\n",
       "    .dataframe thead th {\n",
       "        text-align: right;\n",
       "    }\n",
       "</style>\n",
       "<table border=\"1\" class=\"dataframe\">\n",
       "  <thead>\n",
       "    <tr style=\"text-align: right;\">\n",
       "      <th></th>\n",
       "      <th>PlaceName</th>\n",
       "      <th>BPHIGH_CrudePrev</th>\n",
       "      <th>CASTHMA_CrudePrev</th>\n",
       "      <th>COPD_CrudePrev</th>\n",
       "      <th>CSMOKING_CrudePrev</th>\n",
       "      <th>DIABETES_CrudePrev</th>\n",
       "      <th>HIGHCHOL_CrudePrev</th>\n",
       "      <th>MHLTH_CrudePrev</th>\n",
       "      <th>SLEEP_CrudePrev</th>\n",
       "      <th>Population2010</th>\n",
       "      <th>nameforapi</th>\n",
       "    </tr>\n",
       "  </thead>\n",
       "  <tbody>\n",
       "    <tr>\n",
       "      <th>0</th>\n",
       "      <td>Alameda</td>\n",
       "      <td>25.719995</td>\n",
       "      <td>8.287716</td>\n",
       "      <td>4.293206</td>\n",
       "      <td>11.752798</td>\n",
       "      <td>8.699557</td>\n",
       "      <td>31.329903</td>\n",
       "      <td>9.712316</td>\n",
       "      <td>33.674755</td>\n",
       "      <td>73812</td>\n",
       "      <td>ca-Alameda</td>\n",
       "    </tr>\n",
       "    <tr>\n",
       "      <th>1</th>\n",
       "      <td>Alhambra</td>\n",
       "      <td>27.658207</td>\n",
       "      <td>6.809047</td>\n",
       "      <td>4.142895</td>\n",
       "      <td>11.141932</td>\n",
       "      <td>11.359463</td>\n",
       "      <td>35.362469</td>\n",
       "      <td>10.124007</td>\n",
       "      <td>37.873608</td>\n",
       "      <td>83089</td>\n",
       "      <td>ca-Alhambra</td>\n",
       "    </tr>\n",
       "    <tr>\n",
       "      <th>2</th>\n",
       "      <td>Anaheim</td>\n",
       "      <td>25.141230</td>\n",
       "      <td>8.455059</td>\n",
       "      <td>5.181492</td>\n",
       "      <td>14.364481</td>\n",
       "      <td>10.049011</td>\n",
       "      <td>33.324204</td>\n",
       "      <td>12.417236</td>\n",
       "      <td>34.083483</td>\n",
       "      <td>336229</td>\n",
       "      <td>ca-Anaheim</td>\n",
       "    </tr>\n",
       "    <tr>\n",
       "      <th>3</th>\n",
       "      <td>Antioch</td>\n",
       "      <td>27.395956</td>\n",
       "      <td>9.286676</td>\n",
       "      <td>5.529028</td>\n",
       "      <td>15.701846</td>\n",
       "      <td>9.813560</td>\n",
       "      <td>33.088785</td>\n",
       "      <td>12.837886</td>\n",
       "      <td>35.896695</td>\n",
       "      <td>102372</td>\n",
       "      <td>ca-Antioch</td>\n",
       "    </tr>\n",
       "    <tr>\n",
       "      <th>4</th>\n",
       "      <td>Apple Valley</td>\n",
       "      <td>33.963456</td>\n",
       "      <td>10.131809</td>\n",
       "      <td>7.781888</td>\n",
       "      <td>17.060563</td>\n",
       "      <td>11.867038</td>\n",
       "      <td>38.248907</td>\n",
       "      <td>14.115668</td>\n",
       "      <td>37.846322</td>\n",
       "      <td>69103</td>\n",
       "      <td>ca-Apple Valley</td>\n",
       "    </tr>\n",
       "  </tbody>\n",
       "</table>\n",
       "</div>"
      ],
      "text/plain": [
       "      PlaceName  BPHIGH_CrudePrev  CASTHMA_CrudePrev  COPD_CrudePrev  \\\n",
       "0       Alameda         25.719995           8.287716        4.293206   \n",
       "1      Alhambra         27.658207           6.809047        4.142895   \n",
       "2       Anaheim         25.141230           8.455059        5.181492   \n",
       "3       Antioch         27.395956           9.286676        5.529028   \n",
       "4  Apple Valley         33.963456          10.131809        7.781888   \n",
       "\n",
       "   CSMOKING_CrudePrev  DIABETES_CrudePrev  HIGHCHOL_CrudePrev  \\\n",
       "0           11.752798            8.699557           31.329903   \n",
       "1           11.141932           11.359463           35.362469   \n",
       "2           14.364481           10.049011           33.324204   \n",
       "3           15.701846            9.813560           33.088785   \n",
       "4           17.060563           11.867038           38.248907   \n",
       "\n",
       "   MHLTH_CrudePrev  SLEEP_CrudePrev  Population2010       nameforapi  \n",
       "0         9.712316        33.674755           73812       ca-Alameda  \n",
       "1        10.124007        37.873608           83089      ca-Alhambra  \n",
       "2        12.417236        34.083483          336229       ca-Anaheim  \n",
       "3        12.837886        35.896695          102372       ca-Antioch  \n",
       "4        14.115668        37.846322           69103  ca-Apple Valley  "
      ]
     },
     "execution_count": 20,
     "metadata": {},
     "output_type": "execute_result"
    }
   ],
   "source": [
    "cityhealthcp.head()"
   ]
  },
  {
   "cell_type": "code",
   "execution_count": 21,
   "metadata": {},
   "outputs": [
    {
     "data": {
      "image/png": "[encoded data removed]",
      "text/plain": [
       "<Figure size 432x288 with 1 Axes>"
      ]
     },
     "metadata": {
      "needs_background": "light"
     },
     "output_type": "display_data"
    }
   ],
   "source": [
    "cities = ('ca-redondo-beach', 'ca-san-ramon','ca-berkeley', \n",
    "          'ca-folsom', 'ca-irvine','ca-westminster', 'ca-inglewood', \n",
    "          'ca-san-bernardino', 'ca-compton', 'ca-hemet')\n",
    "\n",
    "#hi - high risk, lo - low risk\n",
    "hilow = doc.loc[doc['city'].isin(cities)]\n",
    "\n",
    "#num = pd.DataFrame()\n",
    "#num['city'] = cities\n",
    "#num = num.set_index('city')\n",
    "hilow = hilow.set_index('city')\n",
    "hilow = hilow.reindex(['ca-redondo-beach', 'ca-san-ramon','ca-berkeley', \n",
    "          'ca-folsom', 'ca-irvine','ca-westminster', 'ca-inglewood', \n",
    "          'ca-san-bernardino', 'ca-compton', 'ca-hemet'])\n",
    "hilow\n",
    "#num = pd.DataFrame()\n",
    "#num['doc/1000'] = pd.DataFrame(list(map(find_numdoc, cities))/)\n",
    "#num['city'] = ('Irvine', 'Redondo Beach', 'Murrieta', 'Chino Hills',\n",
    "              #'San Ramon', 'El Monte', 'Rialto', 'Inglewood', 'Hemet',\n",
    "               #'Compton')\n",
    "\n",
    "index = np.arange(10)\n",
    "b = plt.bar(index, hilow['docs/1000'])\n",
    "plt.xlabel('Diabetes Low and High Risk Cities')\n",
    "plt.ylabel('Doctors per 1000 people')\n",
    "plt.xticks(index, ('Redondo Beach', 'San Ramon', 'Berkeley', 'Folsom', 'Irvine',\n",
    "                   'Westminster', 'Inglewood', 'San Bernardino',\n",
    "                   'Compton', 'Hemet'), fontsize = 5)\n",
    "plt.title('Prevalence of Doctors in Diabetes Low and High Risk Cities')\n",
    "b[5].set_color('r')\n",
    "b[6].set_color('r')\n",
    "b[7].set_color('r')\n",
    "b[8].set_color('r')\n",
    "b[9].set_color('r')\n",
    "plt.savefig('g1.png')"
   ]
  },
  {
   "cell_type": "code",
   "execution_count": 22,
   "metadata": {},
   "outputs": [
    {
     "data": {
      "image/png": "[encoded data removed]",
      "text/plain": [
       "<Figure size 432x288 with 1 Axes>"
      ]
     },
     "metadata": {
      "needs_background": "light"
     },
     "output_type": "display_data"
    }
   ],
   "source": [
    "cities = ('ca-san-ramon', 'ca-sunnyvale', 'ca-newport-beach', 'ca-fremont', \n",
    "          'ca-milpitas', 'ca-hesperia', 'ca-merced', 'ca-compton', 'ca-lynwood',\n",
    "          'ca-san-bernardino')\n",
    "\n",
    "hilow = doc.loc[doc['city'].isin(cities)]\n",
    "\n",
    "#num = pd.DataFrame()\n",
    "#num['city'] = cities\n",
    "#num = num.set_index('city')\n",
    "hilow = hilow.set_index('city')\n",
    "hilow = hilow.reindex(['ca-san-ramon', 'ca-sunnyvale', 'ca-newport-beach', 'ca-fremont', \n",
    "          'ca-milpitas', 'ca-hesperia', 'ca-merced', 'ca-compton', 'ca-lynwood',\n",
    "          'ca-san-bernardino'])\n",
    "hilow\n",
    "#num = pd.DataFrame()\n",
    "#num['doc/1000'] = pd.DataFrame(list(map(find_numdoc, cities))/)\n",
    "#num['city'] = ('Irvine', 'Redondo Beach', 'Murrieta', 'Chino Hills',\n",
    "              #'San Ramon', 'El Monte', 'Rialto', 'Inglewood', 'Hemet',\n",
    "               #'Compton')\n",
    "\n",
    "index = np.arange(10)\n",
    "b = plt.bar(index, hilow['docs/1000'])\n",
    "plt.xlabel('Mental Health Low and High Risk Cities')\n",
    "plt.ylabel('Doctors per 1000 people')\n",
    "plt.xticks(index, ('San Ramon', 'Sunnyvale', 'Newport Beach', 'Fremont',\n",
    "                   'Milpitas', 'Hesperia', 'Merced', 'Compton', 'Lynwood',\n",
    "                   'San Bernardino'), fontsize = 5)\n",
    "plt.title('Prevalence of Doctors in Mental Health Low and High Risk Cities')\n",
    "b[5].set_color('r')\n",
    "b[6].set_color('r')\n",
    "b[7].set_color('r')\n",
    "b[8].set_color('r')\n",
    "b[9].set_color('r')\n",
    "plt.savefig('g2.png')"
   ]
  },
  {
   "cell_type": "markdown",
   "metadata": {},
   "source": [
    "### Plot the relationship between doctors and diabetes for all cities."
   ]
  },
  {
   "cell_type": "code",
   "execution_count": 23,
   "metadata": {},
   "outputs": [],
   "source": [
    "doc['PlaceName'] = cityhealthcp['PlaceName']\n",
    "health_doc = pd.merge(cityhealthcp, doc, left_on = \"PlaceName\", right_on = \"PlaceName\")"
   ]
  },
  {
   "cell_type": "code",
   "execution_count": 24,
   "metadata": {},
   "outputs": [],
   "source": [
    "diabvdoc = ggplot(health_doc, aes(x = \"docs/1000\", y = \"DIABETES_CrudePrev\")) +geom_point() + geom_density_2d() + labs(title = 'Doctor Prevalence vs. Diabetes Risk for Cities', x = 'Doctors per 1000 people', y = 'Crude Prevalence of Diabetes')\n",
    "diabvdoc\n",
    "ggsave(diabvdoc, 'g3.png')"
   ]
  },
  {
   "cell_type": "code",
   "execution_count": 25,
   "metadata": {},
   "outputs": [],
   "source": [
    "mhvdoc = ggplot(health_doc, aes(x = \"docs/1000\", y = \"MHLTH_CrudePrev\"))+geom_point() + geom_density_2d() + labs(title = 'Doctor Prevalence vs. Poor Mental Health Risk for Cities', x = 'Doctors per 1000 people', y = 'Crude Prevalence of Poor Mental Health')\n",
    "ggsave(mhvdoc, 'g4.png')"
   ]
  },
  {
   "cell_type": "markdown",
   "metadata": {},
   "source": [
    "# Find relationship between doctors within a certain radius and disease prevalence"
   ]
  },
  {
   "cell_type": "code",
   "execution_count": 26,
   "metadata": {},
   "outputs": [
    {
     "data": {
      "text/html": [
       "<div>\n",
       "<style scoped>\n",
       "    .dataframe tbody tr th:only-of-type {\n",
       "        vertical-align: middle;\n",
       "    }\n",
       "\n",
       "    .dataframe tbody tr th {\n",
       "        vertical-align: top;\n",
       "    }\n",
       "\n",
       "    .dataframe thead th {\n",
       "        text-align: right;\n",
       "    }\n",
       "</style>\n",
       "<table border=\"1\" class=\"dataframe\">\n",
       "  <thead>\n",
       "    <tr style=\"text-align: right;\">\n",
       "      <th></th>\n",
       "      <th>NAME</th>\n",
       "      <th>CityType</th>\n",
       "      <th>Pop2010</th>\n",
       "      <th>Land_sqmi</th>\n",
       "      <th>DateIncorp</th>\n",
       "      <th>WebLink</th>\n",
       "      <th>County</th>\n",
       "      <th>Notes</th>\n",
       "      <th>CityAbbv</th>\n",
       "      <th>geometry</th>\n",
       "    </tr>\n",
       "  </thead>\n",
       "  <tbody>\n",
       "    <tr>\n",
       "      <th>0</th>\n",
       "      <td>Benicia</td>\n",
       "      <td>City</td>\n",
       "      <td>26997</td>\n",
       "      <td>12.93</td>\n",
       "      <td>1850-03-27</td>\n",
       "      <td>http://www.ci.benicia.ca.us</td>\n",
       "      <td>Solano</td>\n",
       "      <td>None</td>\n",
       "      <td>Ben</td>\n",
       "      <td>POLYGON ((-122.19502 38.06053, -122.19413 38.0...</td>\n",
       "    </tr>\n",
       "    <tr>\n",
       "      <th>1</th>\n",
       "      <td>Vallejo</td>\n",
       "      <td>City</td>\n",
       "      <td>115942</td>\n",
       "      <td>30.67</td>\n",
       "      <td>1868-03-30</td>\n",
       "      <td>http://www.ci.vallejo.ca.us</td>\n",
       "      <td>Solano</td>\n",
       "      <td>None</td>\n",
       "      <td>Val</td>\n",
       "      <td>MULTIPOLYGON (((-122.19573 38.15347, -122.1960...</td>\n",
       "    </tr>\n",
       "    <tr>\n",
       "      <th>2</th>\n",
       "      <td>Rio Vista</td>\n",
       "      <td>City</td>\n",
       "      <td>7360</td>\n",
       "      <td>6.69</td>\n",
       "      <td>1894-01-06</td>\n",
       "      <td>http://www.ci.rio-vista.ca.us</td>\n",
       "      <td>Solano</td>\n",
       "      <td>None</td>\n",
       "      <td>RVs</td>\n",
       "      <td>POLYGON ((-121.68572 38.15866, -121.68576 38.1...</td>\n",
       "    </tr>\n",
       "    <tr>\n",
       "      <th>3</th>\n",
       "      <td>Colusa</td>\n",
       "      <td>City</td>\n",
       "      <td>5971</td>\n",
       "      <td>1.83</td>\n",
       "      <td>1868-06-16</td>\n",
       "      <td>http://www.colusa-ca.gov</td>\n",
       "      <td>Colusa</td>\n",
       "      <td>06-15-007</td>\n",
       "      <td>Clu</td>\n",
       "      <td>MULTIPOLYGON (((-122.02677 39.18156, -122.0267...</td>\n",
       "    </tr>\n",
       "    <tr>\n",
       "      <th>4</th>\n",
       "      <td>Williams</td>\n",
       "      <td>City</td>\n",
       "      <td>5123</td>\n",
       "      <td>5.44</td>\n",
       "      <td>1920-05-17</td>\n",
       "      <td>http://www.cityofwilliams.org</td>\n",
       "      <td>Colusa</td>\n",
       "      <td>None</td>\n",
       "      <td>Wms</td>\n",
       "      <td>POLYGON ((-122.13254 39.16570, -122.13250 39.1...</td>\n",
       "    </tr>\n",
       "  </tbody>\n",
       "</table>\n",
       "</div>"
      ],
      "text/plain": [
       "        NAME CityType  Pop2010  Land_sqmi  DateIncorp  \\\n",
       "0    Benicia     City    26997      12.93  1850-03-27   \n",
       "1    Vallejo     City   115942      30.67  1868-03-30   \n",
       "2  Rio Vista     City     7360       6.69  1894-01-06   \n",
       "3     Colusa     City     5971       1.83  1868-06-16   \n",
       "4   Williams     City     5123       5.44  1920-05-17   \n",
       "\n",
       "                         WebLink  County      Notes CityAbbv  \\\n",
       "0    http://www.ci.benicia.ca.us  Solano       None      Ben   \n",
       "1    http://www.ci.vallejo.ca.us  Solano       None      Val   \n",
       "2  http://www.ci.rio-vista.ca.us  Solano       None      RVs   \n",
       "3       http://www.colusa-ca.gov  Colusa  06-15-007      Clu   \n",
       "4  http://www.cityofwilliams.org  Colusa       None      Wms   \n",
       "\n",
       "                                            geometry  \n",
       "0  POLYGON ((-122.19502 38.06053, -122.19413 38.0...  \n",
       "1  MULTIPOLYGON (((-122.19573 38.15347, -122.1960...  \n",
       "2  POLYGON ((-121.68572 38.15866, -121.68576 38.1...  \n",
       "3  MULTIPOLYGON (((-122.02677 39.18156, -122.0267...  \n",
       "4  POLYGON ((-122.13254 39.16570, -122.13250 39.1...  "
      ]
     },
     "execution_count": 26,
     "metadata": {},
     "output_type": "execute_result"
    }
   ],
   "source": [
    "tracts = gpd.read_file(\"data/Cities2015.shp\")\n",
    "tracts.head()"
   ]
  },
  {
   "cell_type": "code",
   "execution_count": 27,
   "metadata": {},
   "outputs": [],
   "source": [
    "#social vulnerability index data from 2016\n",
    "svi = gpd.read_file(\"SVI2016_US/SVI2016_US.shp\")"
   ]
  },
  {
   "cell_type": "code",
   "execution_count": 28,
   "metadata": {},
   "outputs": [],
   "source": [
    "#we join the svi data and health data at census tract level\n",
    "#rename svi tract column to match column name in health\n",
    "svi.rename(columns={'FIPS': 'TractFIPS'}, inplace=True)\n",
    "\n",
    "#convert tract column to int64 type to match type in health \n",
    "svi['TractFIPS'] = svi['TractFIPS'].astype(np.int64)"
   ]
  },
  {
   "cell_type": "code",
   "execution_count": 29,
   "metadata": {},
   "outputs": [
    {
     "data": {
      "text/html": [
       "<div>\n",
       "<style scoped>\n",
       "    .dataframe tbody tr th:only-of-type {\n",
       "        vertical-align: middle;\n",
       "    }\n",
       "\n",
       "    .dataframe tbody tr th {\n",
       "        vertical-align: top;\n",
       "    }\n",
       "\n",
       "    .dataframe thead th {\n",
       "        text-align: right;\n",
       "    }\n",
       "</style>\n",
       "<table border=\"1\" class=\"dataframe\">\n",
       "  <thead>\n",
       "    <tr style=\"text-align: right;\">\n",
       "      <th></th>\n",
       "      <th>TractFIPS</th>\n",
       "      <th>PlaceName</th>\n",
       "      <th>DIABETES_CrudePrev</th>\n",
       "      <th>MHLTH_CrudePrev</th>\n",
       "      <th>SLEEP_CrudePrev</th>\n",
       "      <th>Population2010</th>\n",
       "      <th>ST</th>\n",
       "      <th>STATE</th>\n",
       "      <th>ST_ABBR</th>\n",
       "      <th>STCNTY</th>\n",
       "      <th>...</th>\n",
       "      <th>F_NOVEH</th>\n",
       "      <th>F_GROUPQ</th>\n",
       "      <th>F_THEME4</th>\n",
       "      <th>F_TOTAL</th>\n",
       "      <th>E_UNINSUR</th>\n",
       "      <th>M_UNINSUR</th>\n",
       "      <th>EP_UNINSUR</th>\n",
       "      <th>MP_UNINSUR</th>\n",
       "      <th>E_DAYPOP</th>\n",
       "      <th>geometry</th>\n",
       "    </tr>\n",
       "  </thead>\n",
       "  <tbody>\n",
       "    <tr>\n",
       "      <th>0</th>\n",
       "      <td>6037206032</td>\n",
       "      <td>Los Angeles</td>\n",
       "      <td>15.5</td>\n",
       "      <td>15.0</td>\n",
       "      <td>38.9</td>\n",
       "      <td>5275</td>\n",
       "      <td>06</td>\n",
       "      <td>CALIFORNIA</td>\n",
       "      <td>CA</td>\n",
       "      <td>06037</td>\n",
       "      <td>...</td>\n",
       "      <td>1.0</td>\n",
       "      <td>0.0</td>\n",
       "      <td>3.0</td>\n",
       "      <td>9.0</td>\n",
       "      <td>1297.0</td>\n",
       "      <td>328.0</td>\n",
       "      <td>23.6</td>\n",
       "      <td>5.7</td>\n",
       "      <td>4816.0</td>\n",
       "      <td>POLYGON ((-118.22870 34.05259, -118.22853 34.0...</td>\n",
       "    </tr>\n",
       "    <tr>\n",
       "      <th>1</th>\n",
       "      <td>6037462001</td>\n",
       "      <td>Pasadena</td>\n",
       "      <td>11.6</td>\n",
       "      <td>15.7</td>\n",
       "      <td>40.2</td>\n",
       "      <td>3974</td>\n",
       "      <td>06</td>\n",
       "      <td>CALIFORNIA</td>\n",
       "      <td>CA</td>\n",
       "      <td>06037</td>\n",
       "      <td>...</td>\n",
       "      <td>0.0</td>\n",
       "      <td>0.0</td>\n",
       "      <td>1.0</td>\n",
       "      <td>4.0</td>\n",
       "      <td>899.0</td>\n",
       "      <td>241.0</td>\n",
       "      <td>23.0</td>\n",
       "      <td>5.7</td>\n",
       "      <td>1281.0</td>\n",
       "      <td>POLYGON ((-118.14613 34.16888, -118.14387 34.1...</td>\n",
       "    </tr>\n",
       "    <tr>\n",
       "      <th>2</th>\n",
       "      <td>6059011504</td>\n",
       "      <td>Fullerton</td>\n",
       "      <td>4.6</td>\n",
       "      <td>14.1</td>\n",
       "      <td>33.4</td>\n",
       "      <td>5473</td>\n",
       "      <td>06</td>\n",
       "      <td>CALIFORNIA</td>\n",
       "      <td>CA</td>\n",
       "      <td>06059</td>\n",
       "      <td>...</td>\n",
       "      <td>0.0</td>\n",
       "      <td>1.0</td>\n",
       "      <td>2.0</td>\n",
       "      <td>2.0</td>\n",
       "      <td>730.0</td>\n",
       "      <td>282.0</td>\n",
       "      <td>11.6</td>\n",
       "      <td>4.1</td>\n",
       "      <td>39803.0</td>\n",
       "      <td>POLYGON ((-117.89010 33.88804, -117.88643 33.8...</td>\n",
       "    </tr>\n",
       "    <tr>\n",
       "      <th>3</th>\n",
       "      <td>6073003112</td>\n",
       "      <td>San Diego</td>\n",
       "      <td>12.9</td>\n",
       "      <td>13.7</td>\n",
       "      <td>39.1</td>\n",
       "      <td>4574</td>\n",
       "      <td>06</td>\n",
       "      <td>CALIFORNIA</td>\n",
       "      <td>CA</td>\n",
       "      <td>06073</td>\n",
       "      <td>...</td>\n",
       "      <td>0.0</td>\n",
       "      <td>0.0</td>\n",
       "      <td>1.0</td>\n",
       "      <td>2.0</td>\n",
       "      <td>773.0</td>\n",
       "      <td>309.0</td>\n",
       "      <td>16.9</td>\n",
       "      <td>6.3</td>\n",
       "      <td>2949.0</td>\n",
       "      <td>POLYGON ((-117.07309 32.70861, -117.07183 32.7...</td>\n",
       "    </tr>\n",
       "    <tr>\n",
       "      <th>4</th>\n",
       "      <td>6013336102</td>\n",
       "      <td>Concord</td>\n",
       "      <td>9.5</td>\n",
       "      <td>16.4</td>\n",
       "      <td>38.1</td>\n",
       "      <td>7595</td>\n",
       "      <td>06</td>\n",
       "      <td>CALIFORNIA</td>\n",
       "      <td>CA</td>\n",
       "      <td>06013</td>\n",
       "      <td>...</td>\n",
       "      <td>0.0</td>\n",
       "      <td>0.0</td>\n",
       "      <td>2.0</td>\n",
       "      <td>5.0</td>\n",
       "      <td>1991.0</td>\n",
       "      <td>645.0</td>\n",
       "      <td>26.0</td>\n",
       "      <td>7.5</td>\n",
       "      <td>3593.0</td>\n",
       "      <td>POLYGON ((-122.04748 37.97117, -122.04503 37.9...</td>\n",
       "    </tr>\n",
       "  </tbody>\n",
       "</table>\n",
       "<p>5 rows × 130 columns</p>\n",
       "</div>"
      ],
      "text/plain": [
       "    TractFIPS    PlaceName  DIABETES_CrudePrev  MHLTH_CrudePrev  \\\n",
       "0  6037206032  Los Angeles                15.5             15.0   \n",
       "1  6037462001     Pasadena                11.6             15.7   \n",
       "2  6059011504    Fullerton                 4.6             14.1   \n",
       "3  6073003112    San Diego                12.9             13.7   \n",
       "4  6013336102      Concord                 9.5             16.4   \n",
       "\n",
       "   SLEEP_CrudePrev  Population2010  ST       STATE ST_ABBR STCNTY  ...  \\\n",
       "0             38.9            5275  06  CALIFORNIA      CA  06037  ...   \n",
       "1             40.2            3974  06  CALIFORNIA      CA  06037  ...   \n",
       "2             33.4            5473  06  CALIFORNIA      CA  06059  ...   \n",
       "3             39.1            4574  06  CALIFORNIA      CA  06073  ...   \n",
       "4             38.1            7595  06  CALIFORNIA      CA  06013  ...   \n",
       "\n",
       "  F_NOVEH F_GROUPQ  F_THEME4  F_TOTAL  E_UNINSUR  M_UNINSUR  EP_UNINSUR  \\\n",
       "0     1.0      0.0       3.0      9.0     1297.0      328.0        23.6   \n",
       "1     0.0      0.0       1.0      4.0      899.0      241.0        23.0   \n",
       "2     0.0      1.0       2.0      2.0      730.0      282.0        11.6   \n",
       "3     0.0      0.0       1.0      2.0      773.0      309.0        16.9   \n",
       "4     0.0      0.0       2.0      5.0     1991.0      645.0        26.0   \n",
       "\n",
       "   MP_UNINSUR  E_DAYPOP                                           geometry  \n",
       "0         5.7    4816.0  POLYGON ((-118.22870 34.05259, -118.22853 34.0...  \n",
       "1         5.7    1281.0  POLYGON ((-118.14613 34.16888, -118.14387 34.1...  \n",
       "2         4.1   39803.0  POLYGON ((-117.89010 33.88804, -117.88643 33.8...  \n",
       "3         6.3    2949.0  POLYGON ((-117.07309 32.70861, -117.07183 32.7...  \n",
       "4         7.5    3593.0  POLYGON ((-122.04748 37.97117, -122.04503 37.9...  \n",
       "\n",
       "[5 rows x 130 columns]"
      ]
     },
     "execution_count": 29,
     "metadata": {},
     "output_type": "execute_result"
    }
   ],
   "source": [
    "#create new dataset from merged svi and health data\n",
    "healthsvi = healthcp.merge(svi, on='TractFIPS', how='inner')\n",
    "healthsvi.head()"
   ]
  },
  {
   "cell_type": "code",
   "execution_count": 30,
   "metadata": {},
   "outputs": [],
   "source": [
    "d = ('San Bernardino', 'Compton', 'Hemet')\n",
    "b = ('Compton', 'Lynwood', 'San Bernardino')\n",
    "worst3diab = healthsvi.loc[healthsvi['PlaceName'].isin(d)].reset_index()\n",
    "worst3mh = healthsvi.loc[healthsvi['PlaceName'].isin(b)].reset_index()"
   ]
  },
  {
   "cell_type": "markdown",
   "metadata": {},
   "source": [
    "### Using the shapefiles, we write a function to find the approximate radius of a tract."
   ]
  },
  {
   "cell_type": "code",
   "execution_count": 31,
   "metadata": {},
   "outputs": [],
   "source": [
    "#function to find the radius of a tract\n",
    "def find_radius(fips):\n",
    "    shape = tuple(svi.loc[svi['TractFIPS']==fips].geometry)[0]\n",
    "    center = tuple(shape.centroid.coords)[0]\n",
    "    # reverse (lon,lat) to (lat,lon)\n",
    "    center = center[::-1]\n",
    "    #create dataframe to store radiuses\n",
    "    r = pd.DataFrame()\n",
    "    r['rad'] = None\n",
    "    #find max between center and all boundary points\n",
    "    for i in range(0, len(tuple(shape.boundary.coords))):        \n",
    "        bounds = tuple(shape.boundary.coords)[i]\n",
    "        bounds = bounds[::-1]\n",
    "        r.loc[i, 'rad'] = gpy.distance(center, bounds)\n",
    "    #convert from km to miles\n",
    "    radius = max(r.rad)\n",
    "    convers_factor = 0.621371\n",
    "    radius =  radius * convers_factor\n",
    "    return radius"
   ]
  },
  {
   "cell_type": "code",
   "execution_count": 32,
   "metadata": {},
   "outputs": [
    {
     "data": {
      "text/plain": [
       "Distance(0.9072218364655207)"
      ]
     },
     "execution_count": 32,
     "metadata": {},
     "output_type": "execute_result"
    }
   ],
   "source": [
    "#test\n",
    "find_radius(6037543100)"
   ]
  },
  {
   "cell_type": "code",
   "execution_count": 33,
   "metadata": {},
   "outputs": [],
   "source": [
    "#get radius of census tracts for 3 cities with highest risk of diabetes\n",
    "worst3diab['radius1'] = None\n",
    "worst3diab['radius5'] = None\n",
    "worst3diab['radius10'] = None\n",
    "for i in range(0,len(worst3diab.TractFIPS)):\n",
    "    try:\n",
    "        worst3diab.radius1[i] = str(float(str(find_radius(worst3diab.TractFIPS[i])).replace('km',''))+1)\n",
    "        worst3diab.radius5[i] = str(float(str(find_radius(worst3diab.TractFIPS[i])).replace('km',''))+5)\n",
    "        worst3diab.radius10[i] = str(float(str(find_radius(worst3diab.TractFIPS[i])).replace('km',''))+10)\n",
    "    except NotImplementedError:\n",
    "        continue\n"
   ]
  },
  {
   "cell_type": "code",
   "execution_count": 34,
   "metadata": {},
   "outputs": [],
   "source": [
    "#get radii of tracts in 3 highest risk cities for poor mental health\n",
    "worst3mh['radius1'] = None\n",
    "worst3mh['radius5'] = None\n",
    "worst3mh['radius10'] = None\n",
    "\n",
    "for i in range(0,len(worst3mh.TractFIPS)):\n",
    "    try:\n",
    "        worst3mh.radius1[i] = str(float(str(find_radius(worst3mh.TractFIPS[i])).replace('km',''))+1)\n",
    "        worst3mh.radius5[i] = str(float(str(find_radius(worst3mh.TractFIPS[i])).replace('km',''))+5)\n",
    "        worst3mh.radius10[i] = str(float(str(find_radius(worst3mh.TractFIPS[i])).replace('km',''))+10)\n",
    "    except NotImplementedError:\n",
    "        continue\n"
   ]
  },
  {
   "cell_type": "code",
   "execution_count": 35,
   "metadata": {},
   "outputs": [],
   "source": [
    "#get lat, lon, and desired radius of diabetes risk cities\n",
    "worst3diab['lat']=None\n",
    "worst3diab['lon']=None\n",
    "\n",
    "for i in range(0,len(worst3diab)):\n",
    "    shape = worst3diab.geometry[i]\n",
    "    center = tuple(shape.centroid.coords)[0]\n",
    "    lat = str(center[1])\n",
    "    lon = str(center[0])\n",
    "    worst3diab.lat[i] = lat\n",
    "    worst3diab.lon[i] = lon\n",
    "    \n",
    "worst3diab['apientryr1'] = worst3diab['lat']+ ',' +worst3diab['lon']+','+worst3diab['radius1']\n",
    "worst3diab['apientryr5'] = worst3diab['lat']+ ',' +worst3diab['lon']+','+worst3diab['radius5']\n",
    "worst3diab['apientryr10'] = worst3diab['lat']+ ',' +worst3diab['lon']+','+worst3diab['radius10']"
   ]
  },
  {
   "cell_type": "code",
   "execution_count": 36,
   "metadata": {},
   "outputs": [],
   "source": [
    "#get lat, lon, and desired radius of poor mental health risk cities\n",
    "worst3mh['lat']=None\n",
    "worst3mh['lon']=None\n",
    "\n",
    "for i in range(0,len(worst3mh.TractFIPS)):\n",
    "    shape = worst3mh.geometry[i]\n",
    "    center = tuple(shape.centroid.coords)[0]\n",
    "    lat = str(center[1])\n",
    "    lon = str(center[0])\n",
    "    worst3mh.lat[i] = lat\n",
    "    worst3mh.lon[i] = lon\n",
    "    \n",
    "#set columns for api entries of location data for mental health cities\n",
    "worst3mh['apientryr1'] = worst3mh['lat']+ ',' +worst3mh['lon']+','+worst3mh['radius1']\n",
    "worst3mh['apientryr5'] = worst3mh['lat']+ ',' +worst3mh['lon']+','+worst3mh['radius5']\n",
    "worst3mh['apientryr10'] = worst3mh['lat']+ ',' +worst3mh['lon']+','+worst3mh['radius10']"
   ]
  },
  {
   "cell_type": "markdown",
   "metadata": {},
   "source": [
    "### The following function extracts the number of doctors within a certain radius from the API. The individual key I used is listed."
   ]
  },
  {
   "cell_type": "code",
   "execution_count": 37,
   "metadata": {},
   "outputs": [],
   "source": [
    "key = \"a9ed2c27d2f8d4bd41631bf9922c9e82\"\n",
    "def find_numdocrad(entry):\n",
    "    response = requests.get(\"https://api.betterdoctor.com/2016-03-01/doctors\", params = {\n",
    "        \"location\": entry,\n",
    "        \"user_key\": key\n",
    "    })\n",
    "    sleep(randint(0,4))\n",
    "    response.raise_for_status()\n",
    "    result = response.json()\n",
    "    return result['meta']['total']"
   ]
  },
  {
   "cell_type": "code",
   "execution_count": 38,
   "metadata": {
    "scrolled": true
   },
   "outputs": [],
   "source": [
    "worst3diab['docsinr1'] = list(map(find_numdocrad, worst3diab['apientryr1']))\n",
    "worst3diab['docsinr5'] = list(map(find_numdocrad, worst3diab['apientryr5']))\n",
    "worst3diab['docsinr10'] = list(map(find_numdocrad, worst3diab['apientryr10']))"
   ]
  },
  {
   "cell_type": "code",
   "execution_count": 39,
   "metadata": {},
   "outputs": [],
   "source": [
    "worst3diab['docsinr1/1000ppl'] = worst3diab['docsinr1'] / worst3diab['Population2010'] * 1000\n",
    "worst3diab['docsinr5/1000ppl'] = worst3diab['docsinr5'] / worst3diab['Population2010'] * 1000\n",
    "worst3diab['docsinr10/1000ppl'] = worst3diab['docsinr10'] / worst3diab['Population2010'] * 1000"
   ]
  },
  {
   "cell_type": "code",
   "execution_count": 40,
   "metadata": {},
   "outputs": [],
   "source": [
    "#log scale number of doctors per 1000 people \n",
    "worst3diab['log_docsinr1/1000ppl'] = np.log10(worst3diab['docsinr1/1000ppl'] + 1)\n",
    "worst3diab['log_docsinr5/1000ppl'] = np.log10(worst3diab['docsinr5/1000ppl'] + 1)\n",
    "worst3diab['log_docsinr10/1000ppl'] = np.log10(worst3diab['docsinr10/1000ppl'] + 1)"
   ]
  },
  {
   "cell_type": "code",
   "execution_count": 41,
   "metadata": {},
   "outputs": [],
   "source": [
    "worst3mh['docsinr1'] = list(map(find_numdocrad, worst3mh['apientryr1']))\n",
    "worst3mh['docsinr5'] = list(map(find_numdocrad, worst3mh['apientryr5']))\n",
    "worst3mh['docsinr10'] = list(map(find_numdocrad, worst3mh['apientryr10']))"
   ]
  },
  {
   "cell_type": "code",
   "execution_count": 42,
   "metadata": {},
   "outputs": [],
   "source": [
    "worst3mh['docsinr1/1000ppl'] = worst3mh['docsinr1'] / worst3mh['Population2010'] * 1000\n",
    "worst3mh['docsinr5/1000ppl'] = worst3mh['docsinr5'] / worst3mh['Population2010'] * 1000\n",
    "worst3mh['docsinr10/1000ppl'] = worst3mh['docsinr10'] / worst3mh['Population2010'] * 1000"
   ]
  },
  {
   "cell_type": "code",
   "execution_count": 43,
   "metadata": {},
   "outputs": [],
   "source": [
    "#log scale number of doctors per 1000 people \n",
    "worst3mh['log_docsinr1/1000ppl'] = np.log10(worst3mh['docsinr1/1000ppl'] + 1)\n",
    "worst3mh['log_docsinr5/1000ppl'] = np.log10(worst3mh['docsinr5/1000ppl'] + 1)\n",
    "worst3mh['log_docsinr10/1000ppl'] = np.log10(worst3mh['docsinr10/1000ppl'] + 1)"
   ]
  },
  {
   "cell_type": "code",
   "execution_count": 44,
   "metadata": {},
   "outputs": [],
   "source": [
    "drad1 = ggplot(worst3diab, aes(x = \"log_docsinr1/1000ppl\", y = \"DIABETES_CrudePrev\")) + geom_point() + geom_density_2d() + labs(title = 'Doctors Within 1 mile vs. Diabetes Crude Prevalence', x = 'Log(Doctors within 1 mile of Tract Boundary Per 1000 People)',\n",
    "     y = 'Diabetes Crude Prevalence')\n",
    "ggsave(drad1, 'g5.png')"
   ]
  },
  {
   "cell_type": "code",
   "execution_count": 45,
   "metadata": {},
   "outputs": [],
   "source": [
    "drad5 = ggplot(worst3diab, aes(x = \"log_docsinr5/1000ppl\", y = \"DIABETES_CrudePrev\")) + geom_point() + geom_density_2d() + labs(title = 'Doctors Within 5 miles vs. Diabetes Crude Prevalence', x = 'Log(Doctors within 5 mile of Tract Boundary Per 1000 People)',\n",
    "     y = 'Diabetes Crude Prevalence')\n",
    "ggsave(drad5, 'g6.png')\n"
   ]
  },
  {
   "cell_type": "code",
   "execution_count": 46,
   "metadata": {},
   "outputs": [],
   "source": [
    "drad10 = ggplot(worst3diab, aes(x = \"log_docsinr10/1000ppl\", y = \"DIABETES_CrudePrev\")) + geom_point() + geom_density_2d() + labs(title = 'Doctors Within 10 miles vs. Diabetes Crude Prevalence', x = 'Log(Doctors within 10 mile of Tract Boundary Per 1000 People)',\n",
    "     y = 'Diabetes Crude Prevalence')\n",
    "ggsave(drad10, 'g7.png')"
   ]
  },
  {
   "cell_type": "code",
   "execution_count": 47,
   "metadata": {
    "scrolled": true
   },
   "outputs": [],
   "source": [
    "mrad1 = ggplot(worst3mh, aes(x = \"log_docsinr1/1000ppl\", y = \"MHLTH_CrudePrev\")) + geom_point() + geom_density_2d() + labs(title = 'Doctors Within 1 miles vs. Crude Prevalence of Poor Mental Health', x = 'Log(Doctors within 1 mile of Tract Boundary Per 1000 People)',\n",
    "     y = 'Mental Health Crude Prevalence')\n",
    "ggsave(mrad1, 'g8.png')\n"
   ]
  },
  {
   "cell_type": "code",
   "execution_count": 48,
   "metadata": {},
   "outputs": [],
   "source": [
    "mrad5 = ggplot(worst3mh, aes(x = \"log_docsinr5/1000ppl\", y = \"MHLTH_CrudePrev\")) + geom_point() + geom_density_2d() + labs(title = 'Doctors Within 1 miles vs. Crude Prevalence of Poor Mental Health', x = 'Log(Doctors within 5 mile of Tract Boundary Per 1000 People)',\n",
    "     y = 'Mental Health Crude Prevalence')\n",
    "ggsave(mrad5, 'g9.png')"
   ]
  },
  {
   "cell_type": "code",
   "execution_count": 49,
   "metadata": {},
   "outputs": [],
   "source": [
    "mrad10 = ggplot(worst3mh, aes(x = \"log_docsinr10/1000ppl\", y = \"MHLTH_CrudePrev\")) + geom_point() + geom_density_2d() + labs(title = 'Doctors Within 10 miles vs. Crude Prevalence of Poor Mental Health', x = 'Log(Doctors within 10 mile of Tract Boundary Per 1000 People)',\n",
    "     y = 'Mental Health Crude Prevalence')\n",
    "ggsave(mrad1, 'g10.png')"
   ]
  }
 ],
 "metadata": {
  "celltoolbar": "Raw Cell Format",
  "kernelspec": {
   "display_name": "Python 3",
   "language": "python",
   "name": "python3"
  },
  "language_info": {
   "codemirror_mode": {
    "name": "ipython",
    "version": 3
   },
   "file_extension": ".py",
   "mimetype": "text/x-python",
   "name": "python",
   "nbconvert_exporter": "python",
   "pygments_lexer": "ipython3",
   "version": "3.7.3"
  }
 },
 "nbformat": 4,
 "nbformat_minor": 2
}
