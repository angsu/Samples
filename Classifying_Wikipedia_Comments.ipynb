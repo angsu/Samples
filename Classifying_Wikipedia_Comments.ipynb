{
 "cells": [
  {
   "cell_type": "code",
   "execution_count": 1,
   "metadata": {},
   "outputs": [
    {
     "name": "stderr",
     "output_type": "stream",
     "text": [
      "[nltk_data] Downloading package wordnet to\n",
      "[nltk_data]     /Users/alexisang/nltk_data...\n",
      "[nltk_data]   Package wordnet is already up-to-date!\n"
     ]
    },
    {
     "data": {
      "text/plain": [
       "True"
      ]
     },
     "execution_count": 1,
     "metadata": {},
     "output_type": "execute_result"
    }
   ],
   "source": [
    "# Installing libraries \n",
    "import pandas as pd\n",
    "import numpy as np\n",
    "from sklearn.feature_extraction.text import TfidfVectorizer\n",
    "from sklearn.linear_model import LogisticRegression\n",
    "from sklearn.model_selection import cross_val_score\n",
    "from scipy.sparse import hstack\n",
    "from nltk.stem import PorterStemmer\n",
    "from textblob import TextBlob # pip install textblob\n",
    "import nltk\n",
    "nltk.download('wordnet')\n",
    "#import torch # conda install pytorch torchvision -c pytorch"
   ]
  },
  {
   "cell_type": "code",
   "execution_count": null,
   "metadata": {},
   "outputs": [],
   "source": [
    "# Reading in test.csv file into variable 'test'\n",
    "test = pd.read_csv('C:/Users/Admin/OneDrive/Spring 19 Classes/STA 141C/Project/jigsaw-toxic-comment-classification-challenge/test.csv')"
   ]
  },
  {
   "cell_type": "code",
   "execution_count": 5,
   "metadata": {},
   "outputs": [
    {
     "name": "stdout",
     "output_type": "stream",
     "text": [
      "<class 'pandas.core.frame.DataFrame'>\n",
      "RangeIndex: 153164 entries, 0 to 153163\n",
      "Data columns (total 2 columns):\n",
      "id              153164 non-null object\n",
      "comment_text    153164 non-null object\n",
      "dtypes: object(2)\n",
      "memory usage: 2.3+ MB\n"
     ]
    }
   ],
   "source": [
    "# Information about 'test' dataframe\n",
    "test.info()"
   ]
  },
  {
   "cell_type": "code",
   "execution_count": 6,
   "metadata": {},
   "outputs": [
    {
     "data": {
      "text/html": [
       "<div>\n",
       "<style scoped>\n",
       "    .dataframe tbody tr th:only-of-type {\n",
       "        vertical-align: middle;\n",
       "    }\n",
       "\n",
       "    .dataframe tbody tr th {\n",
       "        vertical-align: top;\n",
       "    }\n",
       "\n",
       "    .dataframe thead th {\n",
       "        text-align: right;\n",
       "    }\n",
       "</style>\n",
       "<table border=\"1\" class=\"dataframe\">\n",
       "  <thead>\n",
       "    <tr style=\"text-align: right;\">\n",
       "      <th></th>\n",
       "      <th>id</th>\n",
       "      <th>comment_text</th>\n",
       "    </tr>\n",
       "  </thead>\n",
       "  <tbody>\n",
       "    <tr>\n",
       "      <th>0</th>\n",
       "      <td>00001cee341fdb12</td>\n",
       "      <td>Yo bitch Ja Rule is more succesful then you'll...</td>\n",
       "    </tr>\n",
       "    <tr>\n",
       "      <th>1</th>\n",
       "      <td>0000247867823ef7</td>\n",
       "      <td>== From RfC == \\n\\n The title is fine as it is...</td>\n",
       "    </tr>\n",
       "    <tr>\n",
       "      <th>2</th>\n",
       "      <td>00013b17ad220c46</td>\n",
       "      <td>\" \\n\\n == Sources == \\n\\n * Zawe Ashton on Lap...</td>\n",
       "    </tr>\n",
       "    <tr>\n",
       "      <th>3</th>\n",
       "      <td>00017563c3f7919a</td>\n",
       "      <td>:If you have a look back at the source, the in...</td>\n",
       "    </tr>\n",
       "    <tr>\n",
       "      <th>4</th>\n",
       "      <td>00017695ad8997eb</td>\n",
       "      <td>I don't anonymously edit articles at all.</td>\n",
       "    </tr>\n",
       "  </tbody>\n",
       "</table>\n",
       "</div>"
      ],
      "text/plain": [
       "                 id                                       comment_text\n",
       "0  00001cee341fdb12  Yo bitch Ja Rule is more succesful then you'll...\n",
       "1  0000247867823ef7  == From RfC == \\n\\n The title is fine as it is...\n",
       "2  00013b17ad220c46  \" \\n\\n == Sources == \\n\\n * Zawe Ashton on Lap...\n",
       "3  00017563c3f7919a  :If you have a look back at the source, the in...\n",
       "4  00017695ad8997eb          I don't anonymously edit articles at all."
      ]
     },
     "execution_count": 6,
     "metadata": {},
     "output_type": "execute_result"
    }
   ],
   "source": [
    "# Sample of 'test' dataframe\n",
    "test.head()"
   ]
  },
  {
   "cell_type": "code",
   "execution_count": 7,
   "metadata": {},
   "outputs": [],
   "source": [
    "# Reading in test_labels.csv into variable 'test_labels'\n",
    "test_labels = pd.read_csv('C:/Users/Admin/OneDrive/Spring 19 Classes/STA 141C/Project/jigsaw-toxic-comment-classification-challenge/test_labels.csv')"
   ]
  },
  {
   "cell_type": "code",
   "execution_count": 8,
   "metadata": {},
   "outputs": [
    {
     "name": "stdout",
     "output_type": "stream",
     "text": [
      "<class 'pandas.core.frame.DataFrame'>\n",
      "RangeIndex: 153164 entries, 0 to 153163\n",
      "Data columns (total 7 columns):\n",
      "id               153164 non-null object\n",
      "toxic            153164 non-null int64\n",
      "severe_toxic     153164 non-null int64\n",
      "obscene          153164 non-null int64\n",
      "threat           153164 non-null int64\n",
      "insult           153164 non-null int64\n",
      "identity_hate    153164 non-null int64\n",
      "dtypes: int64(6), object(1)\n",
      "memory usage: 8.2+ MB\n"
     ]
    }
   ],
   "source": [
    "# Information about 'test_labels' dataframe\n",
    "test_labels.info()"
   ]
  },
  {
   "cell_type": "code",
   "execution_count": 9,
   "metadata": {},
   "outputs": [
    {
     "data": {
      "text/html": [
       "<div>\n",
       "<style scoped>\n",
       "    .dataframe tbody tr th:only-of-type {\n",
       "        vertical-align: middle;\n",
       "    }\n",
       "\n",
       "    .dataframe tbody tr th {\n",
       "        vertical-align: top;\n",
       "    }\n",
       "\n",
       "    .dataframe thead th {\n",
       "        text-align: right;\n",
       "    }\n",
       "</style>\n",
       "<table border=\"1\" class=\"dataframe\">\n",
       "  <thead>\n",
       "    <tr style=\"text-align: right;\">\n",
       "      <th></th>\n",
       "      <th>id</th>\n",
       "      <th>toxic</th>\n",
       "      <th>severe_toxic</th>\n",
       "      <th>obscene</th>\n",
       "      <th>threat</th>\n",
       "      <th>insult</th>\n",
       "      <th>identity_hate</th>\n",
       "    </tr>\n",
       "  </thead>\n",
       "  <tbody>\n",
       "    <tr>\n",
       "      <th>0</th>\n",
       "      <td>00001cee341fdb12</td>\n",
       "      <td>-1</td>\n",
       "      <td>-1</td>\n",
       "      <td>-1</td>\n",
       "      <td>-1</td>\n",
       "      <td>-1</td>\n",
       "      <td>-1</td>\n",
       "    </tr>\n",
       "    <tr>\n",
       "      <th>1</th>\n",
       "      <td>0000247867823ef7</td>\n",
       "      <td>-1</td>\n",
       "      <td>-1</td>\n",
       "      <td>-1</td>\n",
       "      <td>-1</td>\n",
       "      <td>-1</td>\n",
       "      <td>-1</td>\n",
       "    </tr>\n",
       "    <tr>\n",
       "      <th>2</th>\n",
       "      <td>00013b17ad220c46</td>\n",
       "      <td>-1</td>\n",
       "      <td>-1</td>\n",
       "      <td>-1</td>\n",
       "      <td>-1</td>\n",
       "      <td>-1</td>\n",
       "      <td>-1</td>\n",
       "    </tr>\n",
       "    <tr>\n",
       "      <th>3</th>\n",
       "      <td>00017563c3f7919a</td>\n",
       "      <td>-1</td>\n",
       "      <td>-1</td>\n",
       "      <td>-1</td>\n",
       "      <td>-1</td>\n",
       "      <td>-1</td>\n",
       "      <td>-1</td>\n",
       "    </tr>\n",
       "    <tr>\n",
       "      <th>4</th>\n",
       "      <td>00017695ad8997eb</td>\n",
       "      <td>-1</td>\n",
       "      <td>-1</td>\n",
       "      <td>-1</td>\n",
       "      <td>-1</td>\n",
       "      <td>-1</td>\n",
       "      <td>-1</td>\n",
       "    </tr>\n",
       "  </tbody>\n",
       "</table>\n",
       "</div>"
      ],
      "text/plain": [
       "                 id  toxic  severe_toxic  obscene  threat  insult  \\\n",
       "0  00001cee341fdb12     -1            -1       -1      -1      -1   \n",
       "1  0000247867823ef7     -1            -1       -1      -1      -1   \n",
       "2  00013b17ad220c46     -1            -1       -1      -1      -1   \n",
       "3  00017563c3f7919a     -1            -1       -1      -1      -1   \n",
       "4  00017695ad8997eb     -1            -1       -1      -1      -1   \n",
       "\n",
       "   identity_hate  \n",
       "0             -1  \n",
       "1             -1  \n",
       "2             -1  \n",
       "3             -1  \n",
       "4             -1  "
      ]
     },
     "execution_count": 9,
     "metadata": {},
     "output_type": "execute_result"
    }
   ],
   "source": [
    "# Sample of 'test_labels' dataframe\n",
    "test_labels.head()"
   ]
  },
  {
   "cell_type": "code",
   "execution_count": 10,
   "metadata": {},
   "outputs": [],
   "source": [
    "# Reading in train.csv file into variable 'train'\n",
    "train = pd.read_csv('C:/Users/Admin/OneDrive/Spring 19 Classes/STA 141C/Project/jigsaw-toxic-comment-classification-challenge/train.csv')"
   ]
  },
  {
   "cell_type": "code",
   "execution_count": 11,
   "metadata": {},
   "outputs": [
    {
     "name": "stdout",
     "output_type": "stream",
     "text": [
      "<class 'pandas.core.frame.DataFrame'>\n",
      "RangeIndex: 159571 entries, 0 to 159570\n",
      "Data columns (total 8 columns):\n",
      "id               159571 non-null object\n",
      "comment_text     159571 non-null object\n",
      "toxic            159571 non-null int64\n",
      "severe_toxic     159571 non-null int64\n",
      "obscene          159571 non-null int64\n",
      "threat           159571 non-null int64\n",
      "insult           159571 non-null int64\n",
      "identity_hate    159571 non-null int64\n",
      "dtypes: int64(6), object(2)\n",
      "memory usage: 9.7+ MB\n"
     ]
    }
   ],
   "source": [
    "# Information about 'train' dataframe\n",
    "train.info()"
   ]
  },
  {
   "cell_type": "code",
   "execution_count": 12,
   "metadata": {},
   "outputs": [
    {
     "data": {
      "text/html": [
       "<div>\n",
       "<style scoped>\n",
       "    .dataframe tbody tr th:only-of-type {\n",
       "        vertical-align: middle;\n",
       "    }\n",
       "\n",
       "    .dataframe tbody tr th {\n",
       "        vertical-align: top;\n",
       "    }\n",
       "\n",
       "    .dataframe thead th {\n",
       "        text-align: right;\n",
       "    }\n",
       "</style>\n",
       "<table border=\"1\" class=\"dataframe\">\n",
       "  <thead>\n",
       "    <tr style=\"text-align: right;\">\n",
       "      <th></th>\n",
       "      <th>id</th>\n",
       "      <th>comment_text</th>\n",
       "      <th>toxic</th>\n",
       "      <th>severe_toxic</th>\n",
       "      <th>obscene</th>\n",
       "      <th>threat</th>\n",
       "      <th>insult</th>\n",
       "      <th>identity_hate</th>\n",
       "    </tr>\n",
       "  </thead>\n",
       "  <tbody>\n",
       "    <tr>\n",
       "      <th>0</th>\n",
       "      <td>0000997932d777bf</td>\n",
       "      <td>Explanation\\nWhy the edits made under my usern...</td>\n",
       "      <td>0</td>\n",
       "      <td>0</td>\n",
       "      <td>0</td>\n",
       "      <td>0</td>\n",
       "      <td>0</td>\n",
       "      <td>0</td>\n",
       "    </tr>\n",
       "    <tr>\n",
       "      <th>1</th>\n",
       "      <td>000103f0d9cfb60f</td>\n",
       "      <td>D'aww! He matches this background colour I'm s...</td>\n",
       "      <td>0</td>\n",
       "      <td>0</td>\n",
       "      <td>0</td>\n",
       "      <td>0</td>\n",
       "      <td>0</td>\n",
       "      <td>0</td>\n",
       "    </tr>\n",
       "    <tr>\n",
       "      <th>2</th>\n",
       "      <td>000113f07ec002fd</td>\n",
       "      <td>Hey man, I'm really not trying to edit war. It...</td>\n",
       "      <td>0</td>\n",
       "      <td>0</td>\n",
       "      <td>0</td>\n",
       "      <td>0</td>\n",
       "      <td>0</td>\n",
       "      <td>0</td>\n",
       "    </tr>\n",
       "    <tr>\n",
       "      <th>3</th>\n",
       "      <td>0001b41b1c6bb37e</td>\n",
       "      <td>\"\\nMore\\nI can't make any real suggestions on ...</td>\n",
       "      <td>0</td>\n",
       "      <td>0</td>\n",
       "      <td>0</td>\n",
       "      <td>0</td>\n",
       "      <td>0</td>\n",
       "      <td>0</td>\n",
       "    </tr>\n",
       "    <tr>\n",
       "      <th>4</th>\n",
       "      <td>0001d958c54c6e35</td>\n",
       "      <td>You, sir, are my hero. Any chance you remember...</td>\n",
       "      <td>0</td>\n",
       "      <td>0</td>\n",
       "      <td>0</td>\n",
       "      <td>0</td>\n",
       "      <td>0</td>\n",
       "      <td>0</td>\n",
       "    </tr>\n",
       "  </tbody>\n",
       "</table>\n",
       "</div>"
      ],
      "text/plain": [
       "                 id                                       comment_text  toxic  \\\n",
       "0  0000997932d777bf  Explanation\\nWhy the edits made under my usern...      0   \n",
       "1  000103f0d9cfb60f  D'aww! He matches this background colour I'm s...      0   \n",
       "2  000113f07ec002fd  Hey man, I'm really not trying to edit war. It...      0   \n",
       "3  0001b41b1c6bb37e  \"\\nMore\\nI can't make any real suggestions on ...      0   \n",
       "4  0001d958c54c6e35  You, sir, are my hero. Any chance you remember...      0   \n",
       "\n",
       "   severe_toxic  obscene  threat  insult  identity_hate  \n",
       "0             0        0       0       0              0  \n",
       "1             0        0       0       0              0  \n",
       "2             0        0       0       0              0  \n",
       "3             0        0       0       0              0  \n",
       "4             0        0       0       0              0  "
      ]
     },
     "execution_count": 12,
     "metadata": {},
     "output_type": "execute_result"
    }
   ],
   "source": [
    "# Sample of 'train' dataframe\n",
    "train.head()"
   ]
  },
  {
   "cell_type": "code",
   "execution_count": 13,
   "metadata": {},
   "outputs": [
    {
     "data": {
      "text/plain": [
       "(159571, 8)"
      ]
     },
     "execution_count": 13,
     "metadata": {},
     "output_type": "execute_result"
    }
   ],
   "source": [
    "# Dimensions of 'train' dataframe\n",
    "# 159,571 rows and 8 columns (comment id, comment text, 6 toxicity classification labels)\n",
    "train.shape"
   ]
  },
  {
   "cell_type": "code",
   "execution_count": 14,
   "metadata": {},
   "outputs": [
    {
     "data": {
      "text/html": [
       "<div>\n",
       "<style scoped>\n",
       "    .dataframe tbody tr th:only-of-type {\n",
       "        vertical-align: middle;\n",
       "    }\n",
       "\n",
       "    .dataframe tbody tr th {\n",
       "        vertical-align: top;\n",
       "    }\n",
       "\n",
       "    .dataframe thead th {\n",
       "        text-align: right;\n",
       "    }\n",
       "</style>\n",
       "<table border=\"1\" class=\"dataframe\">\n",
       "  <thead>\n",
       "    <tr style=\"text-align: right;\">\n",
       "      <th></th>\n",
       "      <th>id</th>\n",
       "      <th>comment_text</th>\n",
       "      <th>toxic</th>\n",
       "      <th>severe_toxic</th>\n",
       "      <th>obscene</th>\n",
       "      <th>threat</th>\n",
       "      <th>insult</th>\n",
       "      <th>identity_hate</th>\n",
       "    </tr>\n",
       "  </thead>\n",
       "  <tbody>\n",
       "    <tr>\n",
       "      <th>0</th>\n",
       "      <td>NaN</td>\n",
       "      <td>NaN</td>\n",
       "      <td>144277.0</td>\n",
       "      <td>157976.0</td>\n",
       "      <td>151122.0</td>\n",
       "      <td>159093.0</td>\n",
       "      <td>151694.0</td>\n",
       "      <td>158166.0</td>\n",
       "    </tr>\n",
       "    <tr>\n",
       "      <th>1</th>\n",
       "      <td>NaN</td>\n",
       "      <td>NaN</td>\n",
       "      <td>15294.0</td>\n",
       "      <td>1595.0</td>\n",
       "      <td>8449.0</td>\n",
       "      <td>478.0</td>\n",
       "      <td>7877.0</td>\n",
       "      <td>1405.0</td>\n",
       "    </tr>\n",
       "    <tr>\n",
       "      <th>!\\n\\nI won't stop!  LOCK IT UP A$$HOLE</th>\n",
       "      <td>NaN</td>\n",
       "      <td>1.0</td>\n",
       "      <td>NaN</td>\n",
       "      <td>NaN</td>\n",
       "      <td>NaN</td>\n",
       "      <td>NaN</td>\n",
       "      <td>NaN</td>\n",
       "      <td>NaN</td>\n",
       "    </tr>\n",
       "    <tr>\n",
       "      <th>!\\n\\nIt is now inside your bones, your head. Haunt you forever</th>\n",
       "      <td>NaN</td>\n",
       "      <td>1.0</td>\n",
       "      <td>NaN</td>\n",
       "      <td>NaN</td>\n",
       "      <td>NaN</td>\n",
       "      <td>NaN</td>\n",
       "      <td>NaN</td>\n",
       "      <td>NaN</td>\n",
       "    </tr>\n",
       "    <tr>\n",
       "      <th>!\\n\\nSuck my DIHCK! Nihgga!\\n\\nYou don't want people to know the TRUTH about utorrant, you FAG</th>\n",
       "      <td>NaN</td>\n",
       "      <td>1.0</td>\n",
       "      <td>NaN</td>\n",
       "      <td>NaN</td>\n",
       "      <td>NaN</td>\n",
       "      <td>NaN</td>\n",
       "      <td>NaN</td>\n",
       "      <td>NaN</td>\n",
       "    </tr>\n",
       "  </tbody>\n",
       "</table>\n",
       "</div>"
      ],
      "text/plain": [
       "                                                    id  comment_text  \\\n",
       "0                                                  NaN           NaN   \n",
       "1                                                  NaN           NaN   \n",
       "!\\n\\nI won't stop!  LOCK IT UP A$$HOLE             NaN           1.0   \n",
       "!\\n\\nIt is now inside your bones, your head. Ha... NaN           1.0   \n",
       "!\\n\\nSuck my DIHCK! Nihgga!\\n\\nYou don't want p... NaN           1.0   \n",
       "\n",
       "                                                       toxic  severe_toxic  \\\n",
       "0                                                   144277.0      157976.0   \n",
       "1                                                    15294.0        1595.0   \n",
       "!\\n\\nI won't stop!  LOCK IT UP A$$HOLE                   NaN           NaN   \n",
       "!\\n\\nIt is now inside your bones, your head. Ha...       NaN           NaN   \n",
       "!\\n\\nSuck my DIHCK! Nihgga!\\n\\nYou don't want p...       NaN           NaN   \n",
       "\n",
       "                                                     obscene    threat  \\\n",
       "0                                                   151122.0  159093.0   \n",
       "1                                                     8449.0     478.0   \n",
       "!\\n\\nI won't stop!  LOCK IT UP A$$HOLE                   NaN       NaN   \n",
       "!\\n\\nIt is now inside your bones, your head. Ha...       NaN       NaN   \n",
       "!\\n\\nSuck my DIHCK! Nihgga!\\n\\nYou don't want p...       NaN       NaN   \n",
       "\n",
       "                                                      insult  identity_hate  \n",
       "0                                                   151694.0       158166.0  \n",
       "1                                                     7877.0         1405.0  \n",
       "!\\n\\nI won't stop!  LOCK IT UP A$$HOLE                   NaN            NaN  \n",
       "!\\n\\nIt is now inside your bones, your head. Ha...       NaN            NaN  \n",
       "!\\n\\nSuck my DIHCK! Nihgga!\\n\\nYou don't want p...       NaN            NaN  "
      ]
     },
     "execution_count": 14,
     "metadata": {},
     "output_type": "execute_result"
    }
   ],
   "source": [
    "# Counting how many of each type of toxic comment there is\n",
    "# 0 row indicates number of comments that do not fall under that specific toxicity classification\n",
    "# 1 row indicates number of comments that do fall under that specific toxicity classification\n",
    "train.apply(pd.value_counts, axis = 0).head()"
   ]
  },
  {
   "cell_type": "code",
   "execution_count": 15,
   "metadata": {},
   "outputs": [
    {
     "data": {
      "text/plain": [
       "6          COCKSUCKER BEFORE YOU PISS AROUND ON MY WORK\n",
       "12    Hey... what is it..\\n@ | talk .\\nWhat is it......\n",
       "16    Bye! \\n\\nDon't look, come or think of comming ...\n",
       "42    You are gay or antisemmitian? \\n\\nArchangel WH...\n",
       "43             FUCK YOUR FILTHY MOTHER IN THE ASS, DRY!\n",
       "Name: comment_text, dtype: object"
      ]
     },
     "execution_count": 15,
     "metadata": {},
     "output_type": "execute_result"
    }
   ],
   "source": [
    "# Sample of comment text that classifies as a 'toxic' comment\n",
    "train.loc[train['toxic'] == 1]['comment_text'].head()"
   ]
  },
  {
   "cell_type": "code",
   "execution_count": 16,
   "metadata": {},
   "outputs": [
    {
     "data": {
      "text/plain": [
       "6          COCKSUCKER BEFORE YOU PISS AROUND ON MY WORK\n",
       "42    You are gay or antisemmitian? \\n\\nArchangel WH...\n",
       "43             FUCK YOUR FILTHY MOTHER IN THE ASS, DRY!\n",
       "55    Stupid peace of shit stop deleting my stuff as...\n",
       "56    =Tony Sidaway is obviously a fistfuckee. He lo...\n",
       "Name: comment_text, dtype: object"
      ]
     },
     "execution_count": 16,
     "metadata": {},
     "output_type": "execute_result"
    }
   ],
   "source": [
    "# Sample of comment text that classifies as an 'insult' comment\n",
    "train.loc[train['insult'] == 1]['comment_text'].head()"
   ]
  },
  {
   "cell_type": "markdown",
   "metadata": {},
   "source": [
    "# Feature extraction"
   ]
  },
  {
   "cell_type": "markdown",
   "metadata": {},
   "source": [
    "## Number of words"
   ]
  },
  {
   "cell_type": "code",
   "execution_count": 17,
   "metadata": {},
   "outputs": [
    {
     "data": {
      "text/html": [
       "<div>\n",
       "<style scoped>\n",
       "    .dataframe tbody tr th:only-of-type {\n",
       "        vertical-align: middle;\n",
       "    }\n",
       "\n",
       "    .dataframe tbody tr th {\n",
       "        vertical-align: top;\n",
       "    }\n",
       "\n",
       "    .dataframe thead th {\n",
       "        text-align: right;\n",
       "    }\n",
       "</style>\n",
       "<table border=\"1\" class=\"dataframe\">\n",
       "  <thead>\n",
       "    <tr style=\"text-align: right;\">\n",
       "      <th></th>\n",
       "      <th>comment_text</th>\n",
       "      <th>word_count</th>\n",
       "    </tr>\n",
       "  </thead>\n",
       "  <tbody>\n",
       "    <tr>\n",
       "      <th>0</th>\n",
       "      <td>Explanation\\nWhy the edits made under my usern...</td>\n",
       "      <td>42</td>\n",
       "    </tr>\n",
       "    <tr>\n",
       "      <th>1</th>\n",
       "      <td>D'aww! He matches this background colour I'm s...</td>\n",
       "      <td>18</td>\n",
       "    </tr>\n",
       "    <tr>\n",
       "      <th>2</th>\n",
       "      <td>Hey man, I'm really not trying to edit war. It...</td>\n",
       "      <td>42</td>\n",
       "    </tr>\n",
       "    <tr>\n",
       "      <th>3</th>\n",
       "      <td>\"\\nMore\\nI can't make any real suggestions on ...</td>\n",
       "      <td>112</td>\n",
       "    </tr>\n",
       "    <tr>\n",
       "      <th>4</th>\n",
       "      <td>You, sir, are my hero. Any chance you remember...</td>\n",
       "      <td>13</td>\n",
       "    </tr>\n",
       "  </tbody>\n",
       "</table>\n",
       "</div>"
      ],
      "text/plain": [
       "                                        comment_text  word_count\n",
       "0  Explanation\\nWhy the edits made under my usern...          42\n",
       "1  D'aww! He matches this background colour I'm s...          18\n",
       "2  Hey man, I'm really not trying to edit war. It...          42\n",
       "3  \"\\nMore\\nI can't make any real suggestions on ...         112\n",
       "4  You, sir, are my hero. Any chance you remember...          13"
      ]
     },
     "execution_count": 17,
     "metadata": {},
     "output_type": "execute_result"
    }
   ],
   "source": [
    "## FEATURE EXTRACTION ##\n",
    "### NUMBER OF WORDS ###\n",
    "\n",
    "# Splits each comment based on whitespace and counts the number of words; adds results to 'word_count' column\n",
    "train['word_count'] = train['comment_text'].apply(lambda x: len(str(x).split(\" \")))\n",
    "test['word_count'] = test['comment_text'].apply(lambda x: len(str(x).split(\" \")))\n",
    "# Sample of 'train' dataframe 'comment_text' column with new 'word_count' column\n",
    "train[['comment_text','word_count']].head()"
   ]
  },
  {
   "cell_type": "markdown",
   "metadata": {},
   "source": [
    "## Number of characters"
   ]
  },
  {
   "cell_type": "code",
   "execution_count": 18,
   "metadata": {},
   "outputs": [
    {
     "data": {
      "text/html": [
       "<div>\n",
       "<style scoped>\n",
       "    .dataframe tbody tr th:only-of-type {\n",
       "        vertical-align: middle;\n",
       "    }\n",
       "\n",
       "    .dataframe tbody tr th {\n",
       "        vertical-align: top;\n",
       "    }\n",
       "\n",
       "    .dataframe thead th {\n",
       "        text-align: right;\n",
       "    }\n",
       "</style>\n",
       "<table border=\"1\" class=\"dataframe\">\n",
       "  <thead>\n",
       "    <tr style=\"text-align: right;\">\n",
       "      <th></th>\n",
       "      <th>comment_text</th>\n",
       "      <th>char_count</th>\n",
       "    </tr>\n",
       "  </thead>\n",
       "  <tbody>\n",
       "    <tr>\n",
       "      <th>0</th>\n",
       "      <td>Explanation\\nWhy the edits made under my usern...</td>\n",
       "      <td>264</td>\n",
       "    </tr>\n",
       "    <tr>\n",
       "      <th>1</th>\n",
       "      <td>D'aww! He matches this background colour I'm s...</td>\n",
       "      <td>112</td>\n",
       "    </tr>\n",
       "    <tr>\n",
       "      <th>2</th>\n",
       "      <td>Hey man, I'm really not trying to edit war. It...</td>\n",
       "      <td>233</td>\n",
       "    </tr>\n",
       "    <tr>\n",
       "      <th>3</th>\n",
       "      <td>\"\\nMore\\nI can't make any real suggestions on ...</td>\n",
       "      <td>622</td>\n",
       "    </tr>\n",
       "    <tr>\n",
       "      <th>4</th>\n",
       "      <td>You, sir, are my hero. Any chance you remember...</td>\n",
       "      <td>67</td>\n",
       "    </tr>\n",
       "  </tbody>\n",
       "</table>\n",
       "</div>"
      ],
      "text/plain": [
       "                                        comment_text  char_count\n",
       "0  Explanation\\nWhy the edits made under my usern...         264\n",
       "1  D'aww! He matches this background colour I'm s...         112\n",
       "2  Hey man, I'm really not trying to edit war. It...         233\n",
       "3  \"\\nMore\\nI can't make any real suggestions on ...         622\n",
       "4  You, sir, are my hero. Any chance you remember...          67"
      ]
     },
     "execution_count": 18,
     "metadata": {},
     "output_type": "execute_result"
    }
   ],
   "source": [
    "### NUMBER OF CHARACTERS ###\n",
    "\n",
    "# Counts number of characters in each comment\n",
    "train['char_count'] = train['comment_text'].str.len() # Includes spaces\n",
    "# Sample of 'train' dataframe 'comment_text' column with new 'char_count' column\n",
    "train[['comment_text', 'char_count']].head()"
   ]
  },
  {
   "cell_type": "code",
   "execution_count": 19,
   "metadata": {},
   "outputs": [],
   "source": [
    "# Applying character count code to 'test' dataframe\n",
    "test['char_count'] = test['comment_text'].str.len() # Includes spaces"
   ]
  },
  {
   "cell_type": "markdown",
   "metadata": {},
   "source": [
    "### Number of Uppercase words"
   ]
  },
  {
   "cell_type": "code",
   "execution_count": 20,
   "metadata": {},
   "outputs": [
    {
     "data": {
      "text/html": [
       "<div>\n",
       "<style scoped>\n",
       "    .dataframe tbody tr th:only-of-type {\n",
       "        vertical-align: middle;\n",
       "    }\n",
       "\n",
       "    .dataframe tbody tr th {\n",
       "        vertical-align: top;\n",
       "    }\n",
       "\n",
       "    .dataframe thead th {\n",
       "        text-align: right;\n",
       "    }\n",
       "</style>\n",
       "<table border=\"1\" class=\"dataframe\">\n",
       "  <thead>\n",
       "    <tr style=\"text-align: right;\">\n",
       "      <th></th>\n",
       "      <th>comment_text</th>\n",
       "      <th>upper</th>\n",
       "    </tr>\n",
       "  </thead>\n",
       "  <tbody>\n",
       "    <tr>\n",
       "      <th>0</th>\n",
       "      <td>Explanation\\nWhy the edits made under my usern...</td>\n",
       "      <td>2</td>\n",
       "    </tr>\n",
       "    <tr>\n",
       "      <th>1</th>\n",
       "      <td>D'aww! He matches this background colour I'm s...</td>\n",
       "      <td>1</td>\n",
       "    </tr>\n",
       "    <tr>\n",
       "      <th>2</th>\n",
       "      <td>Hey man, I'm really not trying to edit war. It...</td>\n",
       "      <td>0</td>\n",
       "    </tr>\n",
       "    <tr>\n",
       "      <th>3</th>\n",
       "      <td>\"\\nMore\\nI can't make any real suggestions on ...</td>\n",
       "      <td>5</td>\n",
       "    </tr>\n",
       "    <tr>\n",
       "      <th>4</th>\n",
       "      <td>You, sir, are my hero. Any chance you remember...</td>\n",
       "      <td>0</td>\n",
       "    </tr>\n",
       "  </tbody>\n",
       "</table>\n",
       "</div>"
      ],
      "text/plain": [
       "                                        comment_text  upper\n",
       "0  Explanation\\nWhy the edits made under my usern...      2\n",
       "1  D'aww! He matches this background colour I'm s...      1\n",
       "2  Hey man, I'm really not trying to edit war. It...      0\n",
       "3  \"\\nMore\\nI can't make any real suggestions on ...      5\n",
       "4  You, sir, are my hero. Any chance you remember...      0"
      ]
     },
     "execution_count": 20,
     "metadata": {},
     "output_type": "execute_result"
    }
   ],
   "source": [
    "### NUMBER OF UPPERCASE WORDS ###\n",
    "\n",
    "# Counts the number of words in comment text in which all the characters in a word are all uppercase \n",
    "train['upper'] = train['comment_text'].apply(lambda x: len([x for x in x.split() if x.isupper()]))\n",
    "# Sample of 'train' dataframe 'comment_text' column with new 'upper' column\n",
    "train[['comment_text','upper']].head()"
   ]
  },
  {
   "cell_type": "code",
   "execution_count": 21,
   "metadata": {},
   "outputs": [],
   "source": [
    "# Applying uppercase count code to 'test' dataframe\n",
    "test['upper'] = test['comment_text'].apply(lambda x: len([x for x in x.split() if x.isupper()]))"
   ]
  },
  {
   "cell_type": "markdown",
   "metadata": {},
   "source": [
    "# Basic Pre-processing"
   ]
  },
  {
   "cell_type": "markdown",
   "metadata": {},
   "source": [
    "### Lowercase"
   ]
  },
  {
   "cell_type": "code",
   "execution_count": 22,
   "metadata": {},
   "outputs": [
    {
     "data": {
      "text/plain": [
       "0    explanation why the edits made under my userna...\n",
       "1    d'aww! he matches this background colour i'm s...\n",
       "2    hey man, i'm really not trying to edit war. it...\n",
       "3    \" more i can't make any real suggestions on im...\n",
       "4    you, sir, are my hero. any chance you remember...\n",
       "Name: comment_text, dtype: object"
      ]
     },
     "execution_count": 22,
     "metadata": {},
     "output_type": "execute_result"
    }
   ],
   "source": [
    "## BASIC PRE-PROCESSING ##\n",
    "### LOWERCASE ###\n",
    "\n",
    "# Editing 'comment_text' so all characters are lower case and words are separated by a single whitespace\n",
    "train['comment_text'] = train['comment_text'].apply(lambda x: \" \".join(x.lower() for x in x.split()))\n",
    "# Sample of 'train' dataframe 'comment_text' column with new lower case edits\n",
    "train['comment_text'].head()"
   ]
  },
  {
   "cell_type": "code",
   "execution_count": 23,
   "metadata": {},
   "outputs": [],
   "source": [
    "# Applying lowercase edit code to 'test' dataframe\n",
    "test['comment_text'] = test['comment_text'].apply(lambda x: \" \".join(x.lower() for x in x.split()))"
   ]
  },
  {
   "cell_type": "markdown",
   "metadata": {},
   "source": [
    "### Removing Punctuation"
   ]
  },
  {
   "cell_type": "code",
   "execution_count": 24,
   "metadata": {},
   "outputs": [
    {
     "data": {
      "text/plain": [
       "0    explanation why the edits made under my userna...\n",
       "1    daww he matches this background colour im seem...\n",
       "2    hey man im really not trying to edit war its j...\n",
       "3     more i cant make any real suggestions on impr...\n",
       "4    you sir are my hero any chance you remember wh...\n",
       "Name: comment_text, dtype: object"
      ]
     },
     "execution_count": 24,
     "metadata": {},
     "output_type": "execute_result"
    }
   ],
   "source": [
    "### REMOVING PUNCTUATION ###\n",
    "\n",
    "# Editing 'comment_text' and using RegEx expression to remove non-alphanumeric characters and non-whitespace characters\n",
    "train['comment_text'] = train['comment_text'].str.replace('[^\\w\\s]','')\n",
    "# Sample of 'train' dataframe 'comment_text' column with new punctuation edits\n",
    "train['comment_text'].head()                            "
   ]
  },
  {
   "cell_type": "code",
   "execution_count": 25,
   "metadata": {},
   "outputs": [],
   "source": [
    "# Applying punctuation edit code to 'test' dataframe\n",
    "test['comment_text'] = test['comment_text'].str.replace('[^\\w\\s]','')"
   ]
  },
  {
   "cell_type": "markdown",
   "metadata": {},
   "source": [
    "### Removal of Stop Words"
   ]
  },
  {
   "cell_type": "code",
   "execution_count": 26,
   "metadata": {},
   "outputs": [
    {
     "data": {
      "text/plain": [
       "0    explanation edits made username hardcore metal...\n",
       "1    daww matches background colour im seemingly st...\n",
       "2    hey man im really trying edit war guy constant...\n",
       "3    cant make real suggestions improvement wondere...\n",
       "4                  sir hero chance remember page thats\n",
       "Name: comment_text, dtype: object"
      ]
     },
     "execution_count": 26,
     "metadata": {},
     "output_type": "execute_result"
    }
   ],
   "source": [
    "### REMOVAL OF STOP WORDS ###\n",
    "\n",
    "# Importing stop words list\n",
    "from nltk.corpus import stopwords\n",
    "# Assigning English stopwords to variable 'stop'\n",
    "stop = stopwords.words('english')\n",
    "# Editing 'comment_text' to remove stop words from variable 'stop' and separate words with single whitespace\n",
    "train['comment_text'] = train['comment_text'].apply(lambda x: \" \".join(x for x in x.split() if x not in stop))\n",
    "# Sample of 'train' dataframe 'comment_text' column with new stop word edits \n",
    "train['comment_text'].head()"
   ]
  },
  {
   "cell_type": "code",
   "execution_count": 27,
   "metadata": {},
   "outputs": [],
   "source": [
    "# Applying stop word edit code to 'test' dataframe\n",
    "test['comment_text'] = test['comment_text'].apply(lambda x: \" \".join(x for x in x.split() if x not in stop))"
   ]
  },
  {
   "cell_type": "markdown",
   "metadata": {},
   "source": [
    "### Common Word Removal"
   ]
  },
  {
   "cell_type": "code",
   "execution_count": 28,
   "metadata": {},
   "outputs": [
    {
     "data": {
      "text/plain": [
       "article      55403\n",
       "page         45611\n",
       "wikipedia    35557\n",
       "talk         31288\n",
       "please       29607\n",
       "would        29212\n",
       "one          28057\n",
       "like         27705\n",
       "dont         26102\n",
       "see          21486\n",
       "dtype: int64"
      ]
     },
     "execution_count": 28,
     "metadata": {},
     "output_type": "execute_result"
    }
   ],
   "source": [
    "### COMMON WORD REMOVAL ###\n",
    "\n",
    "# Counting number of times a word appears across all comments and selecting the top 10 most frequent words \n",
    "# (at the top of the list)\n",
    "freq = pd.Series(' '.join(train['comment_text']).split()).value_counts()[:10]\n",
    "freq"
   ]
  },
  {
   "cell_type": "code",
   "execution_count": 29,
   "metadata": {},
   "outputs": [
    {
     "data": {
      "text/plain": [
       "0    explanation edits made username hardcore metal...\n",
       "1    daww matches background colour im seemingly st...\n",
       "2    hey man im really trying edit war guy constant...\n",
       "3    cant make real suggestions improvement wondere...\n",
       "4                       sir hero chance remember thats\n",
       "Name: comment_text, dtype: object"
      ]
     },
     "execution_count": 29,
     "metadata": {},
     "output_type": "execute_result"
    }
   ],
   "source": [
    "# Editing 'comment_text' to remove common words from variable 'freq' and separate words with single whitespace\n",
    "freq = list(freq.index)\n",
    "train['comment_text'] = train['comment_text'].apply(lambda x: \" \".join(x for x in x.split() if x not in freq))\n",
    "# Sample of 'train' dataframe 'comment_text' column with common word edits \n",
    "train['comment_text'].head()"
   ]
  },
  {
   "cell_type": "code",
   "execution_count": 30,
   "metadata": {},
   "outputs": [],
   "source": [
    "# Applying common word edit code to 'test' dataframe\n",
    "freq = pd.Series(' '.join(test['comment_text']).split()).value_counts()[:10]\n",
    "freq = list(freq.index)\n",
    "test['comment_text'] = test['comment_text'].apply(lambda x: \" \".join(x for x in x.split() if x not in freq))"
   ]
  },
  {
   "cell_type": "markdown",
   "metadata": {},
   "source": [
    "### Remove Rare Words"
   ]
  },
  {
   "cell_type": "code",
   "execution_count": 31,
   "metadata": {},
   "outputs": [
    {
     "data": {
      "text/plain": [
       "comicon                                                          1\n",
       "httpwwwhousegovcorrinebrownccorner107cornersocialsecurityhtml    1\n",
       "draftgodwin                                                      1\n",
       "commercialmilitary                                               1\n",
       "augenmusik                                                       1\n",
       "klović                                                           1\n",
       "writning                                                         1\n",
       "handsmany                                                        1\n",
       "wwwangelfirecomca3fresnocoptsindexhtml                           1\n",
       "sunnybrook                                                       1\n",
       "dtype: int64"
      ]
     },
     "execution_count": 31,
     "metadata": {},
     "output_type": "execute_result"
    }
   ],
   "source": [
    "### REMOVE RARE WORDS ###\n",
    "\n",
    "# Counting number of times a word appears across all comments and selecting the top 10 least frequent words \n",
    "# (at the bottom of the list)\n",
    "freq = pd.Series(' '.join(train['comment_text']).split()).value_counts()[-10:]\n",
    "freq"
   ]
  },
  {
   "cell_type": "code",
   "execution_count": 32,
   "metadata": {},
   "outputs": [
    {
     "data": {
      "text/plain": [
       "0    explanation edits made username hardcore metal...\n",
       "1    daww matches background colour im seemingly st...\n",
       "2    hey man im really trying edit war guy constant...\n",
       "3    cant make real suggestions improvement wondere...\n",
       "4                       sir hero chance remember thats\n",
       "Name: comment_text, dtype: object"
      ]
     },
     "execution_count": 32,
     "metadata": {},
     "output_type": "execute_result"
    }
   ],
   "source": [
    "# Editing 'comment_text' to remove rare words from variable 'freq' and separate words with single whitespace\n",
    "freq = list(freq.index)\n",
    "train['comment_text'] = train['comment_text'].apply(lambda x: \" \".join(x for x in x.split() if x not in freq))\n",
    "# Sample of 'train' dataframe 'comment_text' column with rare word edits \n",
    "train['comment_text'].head()"
   ]
  },
  {
   "cell_type": "code",
   "execution_count": 33,
   "metadata": {},
   "outputs": [
    {
     "data": {
      "text/plain": [
       "0    yo bitch ja rule succesful youll ever whats ha...\n",
       "1                                   rfc title fine imo\n",
       "2                          sources zawe ashton lapland\n",
       "3    look back source information updated correct f...\n",
       "4                            anonymously edit articles\n",
       "Name: comment_text, dtype: object"
      ]
     },
     "execution_count": 33,
     "metadata": {},
     "output_type": "execute_result"
    }
   ],
   "source": [
    "# Applying rare word edit code to 'test' dataframe\n",
    "freq = pd.Series(' '.join(test['comment_text']).split()).value_counts()[-10:]\n",
    "freq = list(freq.index)\n",
    "test['comment_text'] = test['comment_text'].apply(lambda x: \" \".join(x for x in x.split() if x not in freq))\n",
    "test['comment_text'].head()"
   ]
  },
  {
   "cell_type": "markdown",
   "metadata": {},
   "source": [
    "### Lemmatization"
   ]
  },
  {
   "cell_type": "code",
   "execution_count": 34,
   "metadata": {},
   "outputs": [
    {
     "data": {
      "text/plain": [
       "0    explanation edits made username hardcore metal...\n",
       "1    daww match background colour im seemingly stuc...\n",
       "2    hey man im really trying edit war guy constant...\n",
       "3    cant make real suggestion improvement wondered...\n",
       "4                       sir hero chance remember thats\n",
       "Name: comment_text, dtype: object"
      ]
     },
     "execution_count": 34,
     "metadata": {},
     "output_type": "execute_result"
    }
   ],
   "source": [
    "### LEMMATIZATION ###\n",
    "\n",
    "# Importing 'Word' library\n",
    "from textblob import Word\n",
    "# Lemmatizing comments so only lemmas remain\n",
    "train['comment_text'] = train['comment_text'].apply(lambda x: \" \".join([Word(word).lemmatize() for word in x.split()]))\n",
    "# Sample of 'train' dataframe 'comment_text' column with lemmatization\n",
    "train['comment_text'].head()"
   ]
  },
  {
   "cell_type": "code",
   "execution_count": 35,
   "metadata": {},
   "outputs": [],
   "source": [
    "# Applying rare word edit code to 'test' dataframe\n",
    "test['comment_text'] = test['comment_text'].apply(lambda x: \" \".join([Word(word).lemmatize() for word in x.split()]))"
   ]
  },
  {
   "cell_type": "markdown",
   "metadata": {},
   "source": [
    "# Extracting features"
   ]
  },
  {
   "cell_type": "markdown",
   "metadata": {},
   "source": [
    "### TF-IDF matrix"
   ]
  },
  {
   "cell_type": "code",
   "execution_count": 53,
   "metadata": {},
   "outputs": [],
   "source": [
    "## EXTRACTING FEATURES ##\n",
    "### TF-IDF MATRIX ###\n",
    "\n",
    "# Reading in test_labels.csv into variable 'test_labels'\n",
    "test_labels = pd.read_csv('C:/Users/Admin/OneDrive/Spring 19 Classes/STA 141C/Project/jigsaw-toxic-comment-classification-challenge/test_labels.csv')"
   ]
  },
  {
   "cell_type": "code",
   "execution_count": 62,
   "metadata": {},
   "outputs": [
    {
     "data": {
      "text/html": [
       "<div>\n",
       "<style scoped>\n",
       "    .dataframe tbody tr th:only-of-type {\n",
       "        vertical-align: middle;\n",
       "    }\n",
       "\n",
       "    .dataframe tbody tr th {\n",
       "        vertical-align: top;\n",
       "    }\n",
       "\n",
       "    .dataframe thead th {\n",
       "        text-align: right;\n",
       "    }\n",
       "</style>\n",
       "<table border=\"1\" class=\"dataframe\">\n",
       "  <thead>\n",
       "    <tr style=\"text-align: right;\">\n",
       "      <th></th>\n",
       "      <th>id</th>\n",
       "      <th>comment_text</th>\n",
       "      <th>word_count</th>\n",
       "      <th>char_count</th>\n",
       "      <th>upper</th>\n",
       "    </tr>\n",
       "  </thead>\n",
       "  <tbody>\n",
       "    <tr>\n",
       "      <th>5</th>\n",
       "      <td>0001ea8717f6de06</td>\n",
       "      <td>thank understanding highly revert without disc...</td>\n",
       "      <td>16</td>\n",
       "      <td>96</td>\n",
       "      <td>1</td>\n",
       "    </tr>\n",
       "    <tr>\n",
       "      <th>7</th>\n",
       "      <td>000247e83dcc1211</td>\n",
       "      <td>dear god site horrible</td>\n",
       "      <td>6</td>\n",
       "      <td>32</td>\n",
       "      <td>0</td>\n",
       "    </tr>\n",
       "    <tr>\n",
       "      <th>11</th>\n",
       "      <td>0002f87b16116a7f</td>\n",
       "      <td>somebody invariably try add religion really me...</td>\n",
       "      <td>78</td>\n",
       "      <td>448</td>\n",
       "      <td>0</td>\n",
       "    </tr>\n",
       "    <tr>\n",
       "      <th>13</th>\n",
       "      <td>0003e1cccfd5a40a</td>\n",
       "      <td>say right type type institution needed case th...</td>\n",
       "      <td>90</td>\n",
       "      <td>501</td>\n",
       "      <td>5</td>\n",
       "    </tr>\n",
       "    <tr>\n",
       "      <th>14</th>\n",
       "      <td>00059ace3e3e9a53</td>\n",
       "      <td>adding new product list make sure relevant add...</td>\n",
       "      <td>60</td>\n",
       "      <td>334</td>\n",
       "      <td>0</td>\n",
       "    </tr>\n",
       "  </tbody>\n",
       "</table>\n",
       "</div>"
      ],
      "text/plain": [
       "                  id                                       comment_text  \\\n",
       "5   0001ea8717f6de06  thank understanding highly revert without disc...   \n",
       "7   000247e83dcc1211                             dear god site horrible   \n",
       "11  0002f87b16116a7f  somebody invariably try add religion really me...   \n",
       "13  0003e1cccfd5a40a  say right type type institution needed case th...   \n",
       "14  00059ace3e3e9a53  adding new product list make sure relevant add...   \n",
       "\n",
       "    word_count  char_count  upper  \n",
       "5           16          96      1  \n",
       "7            6          32      0  \n",
       "11          78         448      0  \n",
       "13          90         501      5  \n",
       "14          60         334      0  "
      ]
     },
     "execution_count": 62,
     "metadata": {},
     "output_type": "execute_result"
    }
   ],
   "source": [
    "# Subsetting 'test_labels' dataframe with rows containing -1 in all toxicity classification labels and saving to variable 'test_neg1'\n",
    "test_neg1 = test_labels.loc[(test_labels[\"toxic\"] == -1) & (test_labels[\"severe_toxic\"] == -1) & \n",
    "                           (test_labels[\"obscene\"] == -1) & (test_labels[\"threat\"] == -1) & \n",
    "                           (test_labels[\"insult\"] == -1) & (test_labels[\"identity_hate\"] == -1)]\n",
    "# Creating list of indices of rows from 'test_label' dataframe that contain -1 in all toxicity classification labels and saving to variable 'index_neg1'\n",
    "index_neg1 = list(test_neg1.index.values.astype(int))\n",
    "# Dropping rows from 'test_label' dataframe that match index numbers from 'index_neg1' and saving new dataframe to variable 'noneg_test_labels'\n",
    "noneg_test_labels = test_labels.drop(index_neg1)\n",
    "# Dropping rows from 'test' dataframe that match index numbers from 'index_neg1' and saving new dataframe to variable 'noneg_test'\n",
    "noneg_test = test.drop(index_neg1)\n",
    "# Sample of 'noneg_test' dataframe after dropping rows\n",
    "noneg_test.head()"
   ]
  },
  {
   "cell_type": "code",
   "execution_count": 63,
   "metadata": {},
   "outputs": [],
   "source": [
    "# Combining text from comments from 'train' dataframe and 'noneg_test' dataframe into one series \n",
    "all_text = pd.concat([train['comment_text'], noneg_test['comment_text']])"
   ]
  },
  {
   "cell_type": "code",
   "execution_count": 64,
   "metadata": {},
   "outputs": [],
   "source": [
    "# Setting up TF-IDF vectorizer and saving to variable 'tfidf'\n",
    "tfidf = TfidfVectorizer(max_features=1000, lowercase = True, analyzer = 'word',\n",
    "                       stop_words = 'english', ngram_range=(1,1), strip_accents = 'unicode')\n",
    "# Applying TF-IDF vectorizer to 'all_text'\n",
    "tfidf.fit(all_text)\n",
    "# Transforming on comments from 'train' document and 'noneg_test' document and saving to respective variables 'train_feautres' and 'test_features'\n",
    "train_features = tfidf.transform(train['comment_text'])\n",
    "test_features = tfidf.transform(noneg_test['comment_text'])"
   ]
  },
  {
   "cell_type": "code",
   "execution_count": 65,
   "metadata": {},
   "outputs": [
    {
     "data": {
      "text/plain": [
       "<159571x1000 sparse matrix of type '<class 'numpy.float64'>'\n",
       "\twith 2022615 stored elements in Compressed Sparse Row format>"
      ]
     },
     "execution_count": 65,
     "metadata": {},
     "output_type": "execute_result"
    }
   ],
   "source": [
    "# Result of transformation with 'train_features'\n",
    "train_features"
   ]
  },
  {
   "cell_type": "code",
   "execution_count": 66,
   "metadata": {},
   "outputs": [
    {
     "data": {
      "text/plain": [
       "<63978x1000 sparse matrix of type '<class 'numpy.float64'>'\n",
       "\twith 738672 stored elements in Compressed Sparse Row format>"
      ]
     },
     "execution_count": 66,
     "metadata": {},
     "output_type": "execute_result"
    }
   ],
   "source": [
    "# Result of transformation with 'test_features'\n",
    "test_features"
   ]
  },
  {
   "cell_type": "code",
   "execution_count": 71,
   "metadata": {},
   "outputs": [],
   "source": [
    "# Creating list of toxicity classification labels and saving to variable 'class_names' \n",
    "class_names = ['toxic', 'severe_toxic', 'obscene', 'threat', 'insult', 'identity_hate']"
   ]
  },
  {
   "cell_type": "code",
   "execution_count": 77,
   "metadata": {},
   "outputs": [],
   "source": [
    "# Applying cross-validation to 'train_features' and calculating cross-validation scores for each category\n",
    "scores = []\n",
    "for i in class_names:\n",
    "    cl = train[i]\n",
    "    classifier = LogisticRegression(C = 0.1, solver = 'sag')\n",
    "    train_score = np.mean(cross_val_score(classifier, train_features, cl, cv=3, scoring = 'roc_auc'))\n",
    "    scores.append(train_score)                                     "
   ]
  },
  {
   "cell_type": "code",
   "execution_count": 85,
   "metadata": {},
   "outputs": [
    {
     "data": {
      "text/plain": [
       "list"
      ]
     },
     "execution_count": 85,
     "metadata": {},
     "output_type": "execute_result"
    }
   ],
   "source": [
    "scores"
   ]
  },
  {
   "cell_type": "code",
   "execution_count": 87,
   "metadata": {},
   "outputs": [],
   "source": [
    "# Converting variable 'scores' to dataframe\n",
    "scores = pd.DataFrame(scores)"
   ]
  },
  {
   "cell_type": "code",
   "execution_count": 88,
   "metadata": {},
   "outputs": [
    {
     "data": {
      "text/plain": [
       "0    0.956469\n",
       "dtype: float64"
      ]
     },
     "execution_count": 88,
     "metadata": {},
     "output_type": "execute_result"
    }
   ],
   "source": [
    "# Calculating mean of 'scores'\n",
    "scores.mean()"
   ]
  },
  {
   "cell_type": "code",
   "execution_count": 51,
   "metadata": {},
   "outputs": [
    {
     "data": {
      "text/plain": [
       "0         0\n",
       "1         0\n",
       "2         0\n",
       "3         0\n",
       "4         0\n",
       "5         0\n",
       "6         1\n",
       "7         0\n",
       "8         0\n",
       "9         0\n",
       "10        0\n",
       "11        0\n",
       "12        1\n",
       "13        0\n",
       "14        0\n",
       "15        0\n",
       "16        1\n",
       "17        0\n",
       "18        0\n",
       "19        0\n",
       "20        0\n",
       "21        0\n",
       "22        0\n",
       "23        0\n",
       "24        0\n",
       "25        0\n",
       "26        0\n",
       "27        0\n",
       "28        0\n",
       "29        0\n",
       "         ..\n",
       "159541    1\n",
       "159542    0\n",
       "159543    0\n",
       "159544    0\n",
       "159545    0\n",
       "159546    1\n",
       "159547    0\n",
       "159548    0\n",
       "159549    0\n",
       "159550    0\n",
       "159551    0\n",
       "159552    0\n",
       "159553    0\n",
       "159554    1\n",
       "159555    0\n",
       "159556    0\n",
       "159557    0\n",
       "159558    0\n",
       "159559    0\n",
       "159560    0\n",
       "159561    0\n",
       "159562    0\n",
       "159563    0\n",
       "159564    0\n",
       "159565    0\n",
       "159566    0\n",
       "159567    0\n",
       "159568    0\n",
       "159569    0\n",
       "159570    0\n",
       "Name: toxic, Length: 159571, dtype: int64"
      ]
     },
     "execution_count": 51,
     "metadata": {},
     "output_type": "execute_result"
    }
   ],
   "source": [
    "train['toxic']"
   ]
  },
  {
   "cell_type": "code",
   "execution_count": 52,
   "metadata": {},
   "outputs": [
    {
     "data": {
      "text/plain": [
       "0.9361748580251202"
      ]
     },
     "execution_count": 52,
     "metadata": {},
     "output_type": "execute_result"
    }
   ],
   "source": [
    "# Applying cross-validation to toxic column of 'train' and calculating cross-validation score\n",
    "toxic_train_score = np.mean(cross_val_score(classifier, train_features, train['toxic'], cv=3, scoring = 'roc_auc'))\n",
    "toxic_train_score"
   ]
  },
  {
   "cell_type": "code",
   "execution_count": 58,
   "metadata": {},
   "outputs": [
    {
     "data": {
      "text/html": [
       "<div>\n",
       "<style scoped>\n",
       "    .dataframe tbody tr th:only-of-type {\n",
       "        vertical-align: middle;\n",
       "    }\n",
       "\n",
       "    .dataframe tbody tr th {\n",
       "        vertical-align: top;\n",
       "    }\n",
       "\n",
       "    .dataframe thead th {\n",
       "        text-align: right;\n",
       "    }\n",
       "</style>\n",
       "<table border=\"1\" class=\"dataframe\">\n",
       "  <thead>\n",
       "    <tr style=\"text-align: right;\">\n",
       "      <th></th>\n",
       "      <th>id</th>\n",
       "      <th>toxic</th>\n",
       "      <th>severe_toxic</th>\n",
       "      <th>obscene</th>\n",
       "      <th>threat</th>\n",
       "      <th>insult</th>\n",
       "      <th>identity_hate</th>\n",
       "    </tr>\n",
       "  </thead>\n",
       "  <tbody>\n",
       "    <tr>\n",
       "      <th>0</th>\n",
       "      <td>00001cee341fdb12</td>\n",
       "      <td>-1</td>\n",
       "      <td>-1</td>\n",
       "      <td>-1</td>\n",
       "      <td>-1</td>\n",
       "      <td>-1</td>\n",
       "      <td>-1</td>\n",
       "    </tr>\n",
       "    <tr>\n",
       "      <th>1</th>\n",
       "      <td>0000247867823ef7</td>\n",
       "      <td>-1</td>\n",
       "      <td>-1</td>\n",
       "      <td>-1</td>\n",
       "      <td>-1</td>\n",
       "      <td>-1</td>\n",
       "      <td>-1</td>\n",
       "    </tr>\n",
       "    <tr>\n",
       "      <th>2</th>\n",
       "      <td>00013b17ad220c46</td>\n",
       "      <td>-1</td>\n",
       "      <td>-1</td>\n",
       "      <td>-1</td>\n",
       "      <td>-1</td>\n",
       "      <td>-1</td>\n",
       "      <td>-1</td>\n",
       "    </tr>\n",
       "    <tr>\n",
       "      <th>3</th>\n",
       "      <td>00017563c3f7919a</td>\n",
       "      <td>-1</td>\n",
       "      <td>-1</td>\n",
       "      <td>-1</td>\n",
       "      <td>-1</td>\n",
       "      <td>-1</td>\n",
       "      <td>-1</td>\n",
       "    </tr>\n",
       "    <tr>\n",
       "      <th>4</th>\n",
       "      <td>00017695ad8997eb</td>\n",
       "      <td>-1</td>\n",
       "      <td>-1</td>\n",
       "      <td>-1</td>\n",
       "      <td>-1</td>\n",
       "      <td>-1</td>\n",
       "      <td>-1</td>\n",
       "    </tr>\n",
       "  </tbody>\n",
       "</table>\n",
       "</div>"
      ],
      "text/plain": [
       "                 id  toxic  severe_toxic  obscene  threat  insult  \\\n",
       "0  00001cee341fdb12     -1            -1       -1      -1      -1   \n",
       "1  0000247867823ef7     -1            -1       -1      -1      -1   \n",
       "2  00013b17ad220c46     -1            -1       -1      -1      -1   \n",
       "3  00017563c3f7919a     -1            -1       -1      -1      -1   \n",
       "4  00017695ad8997eb     -1            -1       -1      -1      -1   \n",
       "\n",
       "   identity_hate  \n",
       "0             -1  \n",
       "1             -1  \n",
       "2             -1  \n",
       "3             -1  \n",
       "4             -1  "
      ]
     },
     "execution_count": 58,
     "metadata": {},
     "output_type": "execute_result"
    }
   ],
   "source": [
    "# Sample of 'test_labels' dataframe\n",
    "test_labels.head()"
   ]
  },
  {
   "cell_type": "code",
   "execution_count": 96,
   "metadata": {},
   "outputs": [],
   "source": [
    "# Applying cross-validation to 'test_features' and calculating cross-validation score\n",
    "for i in class_names:\n",
    "    cl = noneg_test_labels[i]\n",
    "    test_score = np.mean(cross_val_score(classifier, test_features, cl, cv=3, scoring = 'roc_auc'))\n",
    "    test_scores = scores.append(test_score)  "
   ]
  },
  {
   "cell_type": "code",
   "execution_count": 97,
   "metadata": {},
   "outputs": [
    {
     "data": {
      "text/plain": [
       "[0.9158625616784715,\n",
       " 0.9660691521596756,\n",
       " 0.9290434781128654,\n",
       " 0.9700867231176814,\n",
       " 0.9292141198381404,\n",
       " 0.9559217260945632]"
      ]
     },
     "execution_count": 97,
     "metadata": {},
     "output_type": "execute_result"
    }
   ],
   "source": [
    "# List of test scores from cross-validation; score for each toxicity classification label\n",
    "test_scores"
   ]
  },
  {
   "cell_type": "code",
   "execution_count": 99,
   "metadata": {},
   "outputs": [
    {
     "data": {
      "text/plain": [
       "0    0.944366\n",
       "dtype: float64"
      ]
     },
     "execution_count": 99,
     "metadata": {},
     "output_type": "execute_result"
    }
   ],
   "source": [
    "# Converting 'test_scores' into dataframe and calculating mean of scores\n",
    "test_scores = pd.DataFrame(scores)\n",
    "test_scores.mean()"
   ]
  },
  {
   "cell_type": "markdown",
   "metadata": {},
   "source": [
    "multi-label classification\n",
    "screen command for remote work \n",
    "\n",
    "neural networks"
   ]
  }
 ],
 "metadata": {
  "kernelspec": {
   "display_name": "Python 3",
   "language": "python",
   "name": "python3"
  },
  "language_info": {
   "codemirror_mode": {
    "name": "ipython",
    "version": 3
   },
   "file_extension": ".py",
   "mimetype": "text/x-python",
   "name": "python",
   "nbconvert_exporter": "python",
   "pygments_lexer": "ipython3",
   "version": "3.7.1"
  }
 },
 "nbformat": 4,
 "nbformat_minor": 2
}
